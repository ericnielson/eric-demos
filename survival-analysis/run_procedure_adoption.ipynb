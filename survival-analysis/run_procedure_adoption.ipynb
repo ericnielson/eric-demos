{
 "cells": [
  {
   "cell_type": "code",
   "execution_count": 2,
   "metadata": {},
   "outputs": [
    {
     "name": "stderr",
     "output_type": "stream",
     "text": [
      "/home/dragon/workspaces/current/workspace/.venv/lib/python3.11/site-packages/snowflake/connector/options.py:108: UserWarning: You have an incompatible version of 'pyarrow' installed (19.0.1), please install a version that adheres to: 'pyarrow<19.0.0; extra == \"pandas\"'\n",
      "  warn_incompatible_dep(\n",
      "DEBUG:komodo_connector.connection_creators.snowflake.connect:REST API object was created: f82bd78b-1a87-4b6c-a121-dd977d140a9d.snowflakecomputing.com:443\n"
     ]
    },
    {
     "data": {
      "text/plain": [
       "<komodo_connector.connection_creators.snowflake.cursor.KomodoSnowflakeCursor at 0xffff35592d10>"
      ]
     },
     "execution_count": 2,
     "metadata": {},
     "output_type": "execute_result"
    }
   ],
   "source": [
    "import os\n",
    "import pandas as pd\n",
    "import warnings\n",
    "from komodo.snowflake import get_snowflake_connection\n",
    "from komodo.client import Client\n",
    "\n",
    "client = Client()\n",
    "\n",
    "# Connect to Snowflake\n",
    "warnings.filterwarnings(\"ignore\", category=UserWarning)\n",
    "pd.set_option(\"display.max_columns\", None)\n",
    "account_id = os.getenv(\"KOMODO_ACCOUNT_ID\")\n",
    "conn = get_snowflake_connection(account_id)\n",
    "curs = conn.cursor()\n",
    "curs.execute(\"USE ROLE CUSTOMER_ROLE\")"
   ]
  },
  {
   "cell_type": "code",
   "execution_count": 3,
   "metadata": {},
   "outputs": [
    {
     "name": "stdout",
     "output_type": "stream",
     "text": [
      "Looking in indexes: https://pulp.onkomodo.com/pypi/internal/simple/\n",
      "Requirement already satisfied: streamlit in /home/dragon/workspaces/current/workspace/.venv/lib/python3.11/site-packages (1.44.1)\n",
      "Requirement already satisfied: polars in /home/dragon/workspaces/current/workspace/.venv/lib/python3.11/site-packages (1.27.1)\n",
      "Requirement already satisfied: plotly in /home/dragon/workspaces/current/workspace/.venv/lib/python3.11/site-packages (6.0.1)\n",
      "Requirement already satisfied: altair<6,>=4.0 in /home/dragon/workspaces/current/workspace/.venv/lib/python3.11/site-packages (from streamlit) (5.5.0)\n",
      "Requirement already satisfied: blinker<2,>=1.0.0 in /home/dragon/workspaces/current/workspace/.venv/lib/python3.11/site-packages (from streamlit) (1.9.0)\n",
      "Requirement already satisfied: cachetools<6,>=4.0 in /home/dragon/workspaces/current/workspace/.venv/lib/python3.11/site-packages (from streamlit) (5.5.2)\n",
      "Requirement already satisfied: click<9,>=7.0 in /home/dragon/workspaces/current/workspace/.venv/lib/python3.11/site-packages (from streamlit) (8.1.8)\n",
      "Requirement already satisfied: numpy<3,>=1.23 in /home/dragon/workspaces/current/workspace/.venv/lib/python3.11/site-packages (from streamlit) (2.2.4)\n",
      "Requirement already satisfied: packaging<25,>=20 in /home/dragon/workspaces/current/workspace/.venv/lib/python3.11/site-packages (from streamlit) (24.2)\n",
      "Requirement already satisfied: pandas<3,>=1.4.0 in /home/dragon/workspaces/current/workspace/.venv/lib/python3.11/site-packages (from streamlit) (2.2.3)\n",
      "Requirement already satisfied: pillow<12,>=7.1.0 in /home/dragon/workspaces/current/workspace/.venv/lib/python3.11/site-packages (from streamlit) (11.2.1)\n",
      "Requirement already satisfied: protobuf<6,>=3.20 in /home/dragon/workspaces/current/workspace/.venv/lib/python3.11/site-packages (from streamlit) (5.29.4)\n",
      "Requirement already satisfied: pyarrow>=7.0 in /home/dragon/workspaces/current/workspace/.venv/lib/python3.11/site-packages (from streamlit) (19.0.1)\n",
      "Requirement already satisfied: requests<3,>=2.27 in /home/dragon/workspaces/current/workspace/.venv/lib/python3.11/site-packages (from streamlit) (2.32.3)\n",
      "Requirement already satisfied: tenacity<10,>=8.1.0 in /home/dragon/workspaces/current/workspace/.venv/lib/python3.11/site-packages (from streamlit) (9.1.2)\n",
      "Requirement already satisfied: toml<2,>=0.10.1 in /home/dragon/workspaces/current/workspace/.venv/lib/python3.11/site-packages (from streamlit) (0.10.2)\n",
      "Requirement already satisfied: typing-extensions<5,>=4.4.0 in /home/dragon/workspaces/current/workspace/.venv/lib/python3.11/site-packages (from streamlit) (4.13.0)\n",
      "Requirement already satisfied: watchdog<7,>=2.1.5 in /home/dragon/workspaces/current/workspace/.venv/lib/python3.11/site-packages (from streamlit) (6.0.0)\n",
      "Requirement already satisfied: gitpython!=3.1.19,<4,>=3.0.7 in /home/dragon/workspaces/current/workspace/.venv/lib/python3.11/site-packages (from streamlit) (3.1.44)\n",
      "Requirement already satisfied: pydeck<1,>=0.8.0b4 in /home/dragon/workspaces/current/workspace/.venv/lib/python3.11/site-packages (from streamlit) (0.9.1)\n",
      "Requirement already satisfied: tornado<7,>=6.0.3 in /home/dragon/workspaces/current/workspace/.venv/lib/python3.11/site-packages (from streamlit) (6.4.2)\n",
      "Requirement already satisfied: narwhals>=1.15.1 in /home/dragon/workspaces/current/workspace/.venv/lib/python3.11/site-packages (from plotly) (1.35.0)\n",
      "Requirement already satisfied: jinja2 in /home/dragon/workspaces/current/workspace/.venv/lib/python3.11/site-packages (from altair<6,>=4.0->streamlit) (3.1.6)\n",
      "Requirement already satisfied: jsonschema>=3.0 in /home/dragon/workspaces/current/workspace/.venv/lib/python3.11/site-packages (from altair<6,>=4.0->streamlit) (4.23.0)\n",
      "Requirement already satisfied: gitdb<5,>=4.0.1 in /home/dragon/workspaces/current/workspace/.venv/lib/python3.11/site-packages (from gitpython!=3.1.19,<4,>=3.0.7->streamlit) (4.0.12)\n",
      "Requirement already satisfied: python-dateutil>=2.8.2 in /home/dragon/workspaces/current/workspace/.venv/lib/python3.11/site-packages (from pandas<3,>=1.4.0->streamlit) (2.9.0.post0)\n",
      "Requirement already satisfied: pytz>=2020.1 in /home/dragon/workspaces/current/workspace/.venv/lib/python3.11/site-packages (from pandas<3,>=1.4.0->streamlit) (2025.2)\n",
      "Requirement already satisfied: tzdata>=2022.7 in /home/dragon/workspaces/current/workspace/.venv/lib/python3.11/site-packages (from pandas<3,>=1.4.0->streamlit) (2025.2)\n",
      "Requirement already satisfied: charset-normalizer<4,>=2 in /home/dragon/workspaces/current/workspace/.venv/lib/python3.11/site-packages (from requests<3,>=2.27->streamlit) (3.4.1)\n",
      "Requirement already satisfied: idna<4,>=2.5 in /home/dragon/workspaces/current/workspace/.venv/lib/python3.11/site-packages (from requests<3,>=2.27->streamlit) (3.10)\n",
      "Requirement already satisfied: urllib3<3,>=1.21.1 in /home/dragon/workspaces/current/workspace/.venv/lib/python3.11/site-packages (from requests<3,>=2.27->streamlit) (2.3.0)\n",
      "Requirement already satisfied: certifi>=2017.4.17 in /home/dragon/workspaces/current/workspace/.venv/lib/python3.11/site-packages (from requests<3,>=2.27->streamlit) (2025.1.31)\n",
      "Requirement already satisfied: smmap<6,>=3.0.1 in /home/dragon/workspaces/current/workspace/.venv/lib/python3.11/site-packages (from gitdb<5,>=4.0.1->gitpython!=3.1.19,<4,>=3.0.7->streamlit) (5.0.2)\n",
      "Requirement already satisfied: MarkupSafe>=2.0 in /home/dragon/workspaces/current/workspace/.venv/lib/python3.11/site-packages (from jinja2->altair<6,>=4.0->streamlit) (3.0.2)\n",
      "Requirement already satisfied: attrs>=22.2.0 in /home/dragon/workspaces/current/workspace/.venv/lib/python3.11/site-packages (from jsonschema>=3.0->altair<6,>=4.0->streamlit) (25.3.0)\n",
      "Requirement already satisfied: jsonschema-specifications>=2023.03.6 in /home/dragon/workspaces/current/workspace/.venv/lib/python3.11/site-packages (from jsonschema>=3.0->altair<6,>=4.0->streamlit) (2024.10.1)\n",
      "Requirement already satisfied: referencing>=0.28.4 in /home/dragon/workspaces/current/workspace/.venv/lib/python3.11/site-packages (from jsonschema>=3.0->altair<6,>=4.0->streamlit) (0.36.2)\n",
      "Requirement already satisfied: rpds-py>=0.7.1 in /home/dragon/workspaces/current/workspace/.venv/lib/python3.11/site-packages (from jsonschema>=3.0->altair<6,>=4.0->streamlit) (0.24.0)\n",
      "Requirement already satisfied: six>=1.5 in /home/dragon/workspaces/current/workspace/.venv/lib/python3.11/site-packages (from python-dateutil>=2.8.2->pandas<3,>=1.4.0->streamlit) (1.17.0)\n"
     ]
    }
   ],
   "source": [
    "!pip install streamlit polars plotly \n"
   ]
  },
  {
   "cell_type": "code",
   "execution_count": 4,
   "metadata": {},
   "outputs": [],
   "source": [
    "# Function to output the Snowflake table location for our PLAID datasets\n",
    "def get_snowflake_location_from_dataset_id(dataset_id):\n",
    "    try:\n",
    "        # Retrieves a dataset. Requires permission platform_data_integration:dataset:read\n",
    "        get_dataset_response = client.data_catalog.get_dataset(dataset_id)\n",
    "    except Exception as e:\n",
    "        print(f\"Exception when calling DatasetsApi->get_dataset: {e}\")\n",
    "        get_dataset_response = None\n",
    "\n",
    "    if get_dataset_response:\n",
    "        try:\n",
    "            # Access the manifestations list\n",
    "            manifestations = getattr(get_dataset_response, \"manifestations\", [])\n",
    "\n",
    "            # Extract table_name from the first manifestation object\n",
    "            if manifestations and len(manifestations) > 0:\n",
    "                snowflake_location = getattr(\n",
    "                    manifestations[0], \"fully_qualified_name\", None\n",
    "                )\n",
    "                if not snowflake_location:\n",
    "                    print(\n",
    "                        \"Snowflake location not found in the first manifestation object.\"\n",
    "                    )\n",
    "            else:\n",
    "                print(\"No data found in the dataset response.\")\n",
    "        except AttributeError as attr_error:\n",
    "            print(f\"Error accessing table name: {attr_error}\")\n",
    "    else:\n",
    "        print(\"Dataset response is empty or invalid.\")\n",
    "\n",
    "    return snowflake_location"
   ]
  },
  {
   "cell_type": "code",
   "execution_count": 13,
   "metadata": {},
   "outputs": [],
   "source": [
    "# Plaid Dataset IDs for the Cancer Cohort (we can swap these out with a different cohort later if needed)\n",
    "patient_mortality_id = \"7fd3aa7a-3a46-4255-a985-f41abb34d454\"\n",
    "medical_events_id = \"4aa719bf-ede6-471a-aef5-73c5c43f8aea\"\n",
    "pharmacy_events_id = \"f96771d3-0300-48e0-a96a-0a97debc33f7\"\n",
    "patient_demographics_id = \"fc518f94-c2ed-4038-ada9-3f0873577acf\"\n",
    "race_ethnicity_id = \"5c89a860-c53f-4be5-827f-747a95391c98\"\n",
    "providers_id = \"413ee509-d67a-45c1-bd1e-83c00839f62f\"\n",
    "insurance_id = \"c2211b91-c4f7-41c1-a80c-62a4119a01f4\"\n",
    "patient_geographic_id = \"a04b9d6c-abdc-4c0c-bb78-82d17db39672\"\n",
    "plans_id = \"04fb0851-4b0a-4948-bbc3-c880c24b5ef0\"\n",
    "closed_patients = \"a352fa1e-0fe1-4a87-b8eb-baaaed273bbc\"\n",
    "\n",
    "plaid_mx, plaid_rx, morty, demo, race, providers, insurance, geo, plans, patients = map(\n",
    "    get_snowflake_location_from_dataset_id,\n",
    "    (\n",
    "        medical_events_id,\n",
    "        pharmacy_events_id,\n",
    "        patient_mortality_id,\n",
    "        patient_demographics_id,\n",
    "        race_ethnicity_id,\n",
    "        providers_id,\n",
    "        insurance_id,\n",
    "        patient_geographic_id,\n",
    "        plans_id,\n",
    "        closed_patients,\n",
    "    ),\n",
    ")"
   ]
  },
  {
   "cell_type": "code",
   "execution_count": 14,
   "metadata": {},
   "outputs": [],
   "source": [
    "sample_pct = 5\n"
   ]
  },
  {
   "cell_type": "code",
   "execution_count": 39,
   "metadata": {},
   "outputs": [],
   "source": [
    "behemoth = f\"\"\"\n",
    "SELECT\n",
    "    mx.patient_id,\n",
    "    mx.medical_event_id,\n",
    "    mx.procedure_code,\n",
    "    mx.service_date,\n",
    "    mx.place_of_service,\n",
    "    mx.rendering_npi,\n",
    "    pr.first_name,\n",
    "    pr.primary_specialty,\n",
    "    pr.provider_state,\n",
    "    pr.provider_zip,\n",
    "    pl.payer_name,\n",
    "    d.patient_yob,\n",
    "    d.patient_gender\n",
    "FROM\n",
    "    {plaid_mx} AS mx\n",
    "JOIN\n",
    "    {providers} AS pr ON mx.rendering_npi = pr.npi\n",
    "JOIN\n",
    "    {demo} AS d ON mx.patient_id = d.patient_id\n",
    "JOIN\n",
    "    {geo} AS g ON mx.patient_id = g.patient_id\n",
    "JOIN\n",
    "    {plans} AS pl ON mx.kh_plan_id = pl.kh_plan_id\n",
    "\"\"\""
   ]
  },
  {
   "cell_type": "code",
   "execution_count": 40,
   "metadata": {},
   "outputs": [],
   "source": [
    "komodo_df = pd.read_sql(behemoth, conn)\n",
    "komodo_df.to_csv(\"komodo_procedure_adoption.csv\", index=False)"
   ]
  },
  {
   "cell_type": "code",
   "execution_count": 1,
   "metadata": {},
   "outputs": [
    {
     "name": "stdout",
     "output_type": "stream",
     "text": [
      "\n",
      "Collecting usage statistics. To deactivate, set browser.gatherUsageStats to false.\n",
      "\u001b[0m\n",
      "2025-04-16 14:43:33.841 Did not auto detect external IP.\n",
      "Please go to https://docs.streamlit.io/ for debugging hints.\n",
      "\u001b[0m\n",
      "\u001b[34m\u001b[1m  You can now view your Streamlit app in your browser.\u001b[0m\n",
      "\u001b[0m\n",
      "\u001b[34m  Local URL: \u001b[0m\u001b[1mhttp://localhost:8501\u001b[0m\n",
      "\u001b[34m  Network URL: \u001b[0m\u001b[1mhttp://10.164.110.161:8501\u001b[0m\n",
      "\u001b[0m\n"
     ]
    }
   ],
   "source": [
    "!streamlit run streamlit_test.py\n"
   ]
  },
  {
   "cell_type": "code",
   "execution_count": null,
   "metadata": {},
   "outputs": [],
   "source": []
  },
  {
   "cell_type": "code",
   "execution_count": null,
   "metadata": {},
   "outputs": [],
   "source": []
  }
 ],
 "metadata": {
  "kernelspec": {
   "display_name": ".venv",
   "language": "python",
   "name": "python3"
  },
  "language_info": {
   "codemirror_mode": {
    "name": "ipython",
    "version": 3
   },
   "file_extension": ".py",
   "mimetype": "text/x-python",
   "name": "python",
   "nbconvert_exporter": "python",
   "pygments_lexer": "ipython3",
   "version": "3.11.9"
  }
 },
 "nbformat": 4,
 "nbformat_minor": 2
}
