{
 "cells": [
  {
   "cell_type": "code",
   "execution_count": 1,
   "metadata": {},
   "outputs": [
    {
     "ename": "KeyboardInterrupt",
     "evalue": "",
     "output_type": "error",
     "traceback": [
      "\u001b[31m---------------------------------------------------------------------------\u001b[39m",
      "\u001b[31mKeyboardInterrupt\u001b[39m                         Traceback (most recent call last)",
      "\u001b[36mCell\u001b[39m\u001b[36m \u001b[39m\u001b[32mIn[1]\u001b[39m\u001b[32m, line 4\u001b[39m\n\u001b[32m      2\u001b[39m \u001b[38;5;28;01mimport\u001b[39;00m\u001b[38;5;250m \u001b[39m\u001b[34;01mpandas\u001b[39;00m\u001b[38;5;250m \u001b[39m\u001b[38;5;28;01mas\u001b[39;00m\u001b[38;5;250m \u001b[39m\u001b[34;01mpd\u001b[39;00m\n\u001b[32m      3\u001b[39m \u001b[38;5;28;01mimport\u001b[39;00m\u001b[38;5;250m \u001b[39m\u001b[34;01mwarnings\u001b[39;00m\n\u001b[32m----> \u001b[39m\u001b[32m4\u001b[39m \u001b[38;5;28;01mfrom\u001b[39;00m\u001b[38;5;250m \u001b[39m\u001b[34;01mkomodo\u001b[39;00m\u001b[34;01m.\u001b[39;00m\u001b[34;01msnowflake\u001b[39;00m\u001b[38;5;250m \u001b[39m\u001b[38;5;28;01mimport\u001b[39;00m get_snowflake_connection\n\u001b[32m      5\u001b[39m \u001b[38;5;28;01mfrom\u001b[39;00m\u001b[38;5;250m \u001b[39m\u001b[34;01mkomodo\u001b[39;00m\u001b[34;01m.\u001b[39;00m\u001b[34;01mclient\u001b[39;00m\u001b[38;5;250m \u001b[39m\u001b[38;5;28;01mimport\u001b[39;00m Client\n\u001b[32m      7\u001b[39m client = Client()\n",
      "\u001b[36mFile \u001b[39m\u001b[32m~/workspace/.venv/lib/python3.11/site-packages/komodo/__init__.py:454\u001b[39m\n\u001b[32m    451\u001b[39m \u001b[38;5;28;01mfrom\u001b[39;00m\u001b[38;5;250m \u001b[39m\u001b[34;01mkomodo\u001b[39;00m\u001b[34;01m.\u001b[39;00m\u001b[34;01mcore\u001b[39;00m\u001b[34;01m.\u001b[39;00m\u001b[34;01mmodels\u001b[39;00m\u001b[34;01m.\u001b[39;00m\u001b[34;01mworkspace_id\u001b[39;00m\u001b[38;5;250m \u001b[39m\u001b[38;5;28;01mimport\u001b[39;00m WorkspaceId\n\u001b[32m    453\u001b[39m \u001b[38;5;66;03m# import Client\u001b[39;00m\n\u001b[32m--> \u001b[39m\u001b[32m454\u001b[39m \u001b[38;5;28;01mfrom\u001b[39;00m\u001b[38;5;250m \u001b[39m\u001b[34;01mkomodo\u001b[39;00m\u001b[34;01m.\u001b[39;00m\u001b[34;01mclient\u001b[39;00m\u001b[38;5;250m \u001b[39m\u001b[38;5;28;01mimport\u001b[39;00m Client\n",
      "\u001b[36mFile \u001b[39m\u001b[32m~/workspace/.venv/lib/python3.11/site-packages/komodo/client.py:14\u001b[39m\n\u001b[32m     10\u001b[39m \u001b[38;5;28;01mfrom\u001b[39;00m\u001b[38;5;250m \u001b[39m\u001b[34;01mtyping\u001b[39;00m\u001b[38;5;250m \u001b[39m\u001b[38;5;28;01mimport\u001b[39;00m Optional, Type\n\u001b[32m     12\u001b[39m \u001b[38;5;28;01mfrom\u001b[39;00m\u001b[38;5;250m \u001b[39m\u001b[34;01maiohttp\u001b[39;00m\u001b[38;5;250m \u001b[39m\u001b[38;5;28;01mimport\u001b[39;00m ClientSession\n\u001b[32m---> \u001b[39m\u001b[32m14\u001b[39m \u001b[38;5;28;01mfrom\u001b[39;00m\u001b[38;5;250m \u001b[39m\u001b[34;01mkomodo_core\u001b[39;00m\u001b[34;01m.\u001b[39;00m\u001b[34;01mauthn\u001b[39;00m\u001b[34;01m.\u001b[39;00m\u001b[34;01mSession\u001b[39;00m\u001b[38;5;250m \u001b[39m\u001b[38;5;28;01mimport\u001b[39;00m Session\n\u001b[32m     16\u001b[39m \u001b[38;5;28;01mfrom\u001b[39;00m\u001b[38;5;250m \u001b[39m\u001b[34;01mkomodo\u001b[39;00m\u001b[34;01m.\u001b[39;00m\u001b[34;01mapi_client\u001b[39;00m\u001b[38;5;250m \u001b[39m\u001b[38;5;28;01mimport\u001b[39;00m ApiClient\n\u001b[32m     17\u001b[39m \u001b[38;5;28;01mfrom\u001b[39;00m\u001b[38;5;250m \u001b[39m\u001b[34;01mkomodo\u001b[39;00m\u001b[34;01m.\u001b[39;00m\u001b[34;01mconfiguration\u001b[39;00m\u001b[38;5;250m \u001b[39m\u001b[38;5;28;01mimport\u001b[39;00m Configuration\n",
      "\u001b[36mFile \u001b[39m\u001b[32m~/workspace/.venv/lib/python3.11/site-packages/komodo_core/authn/Session.py:13\u001b[39m\n\u001b[32m     10\u001b[39m \u001b[38;5;28;01mfrom\u001b[39;00m\u001b[38;5;250m \u001b[39m\u001b[34;01menum\u001b[39;00m\u001b[38;5;250m \u001b[39m\u001b[38;5;28;01mimport\u001b[39;00m Enum\n\u001b[32m     11\u001b[39m \u001b[38;5;28;01mfrom\u001b[39;00m\u001b[38;5;250m \u001b[39m\u001b[34;01mpydantic\u001b[39;00m\u001b[38;5;250m \u001b[39m\u001b[38;5;28;01mimport\u001b[39;00m BaseModel\n\u001b[32m---> \u001b[39m\u001b[32m13\u001b[39m \u001b[38;5;28;01mimport\u001b[39;00m\u001b[38;5;250m \u001b[39m\u001b[34;01mkeyring\u001b[39;00m\n\u001b[32m     14\u001b[39m \u001b[38;5;28;01mfrom\u001b[39;00m\u001b[38;5;250m \u001b[39m\u001b[34;01mkeyring\u001b[39;00m\u001b[34;01m.\u001b[39;00m\u001b[34;01merrors\u001b[39;00m\u001b[38;5;250m \u001b[39m\u001b[38;5;28;01mimport\u001b[39;00m NoKeyringError\n\u001b[32m     16\u001b[39m \u001b[38;5;28;01mfrom\u001b[39;00m\u001b[38;5;250m \u001b[39m\u001b[34;01mkomodo_core\u001b[39;00m\u001b[34;01m.\u001b[39;00m\u001b[34;01mauthn\u001b[39;00m\u001b[34;01m.\u001b[39;00m\u001b[34;01mconstants\u001b[39;00m\u001b[38;5;250m \u001b[39m\u001b[38;5;28;01mimport\u001b[39;00m KOMODO_IDP_API_SCOPE\n",
      "\u001b[36mFile \u001b[39m\u001b[32m~/workspace/.venv/lib/python3.11/site-packages/keyring/__init__.py:1\u001b[39m\n\u001b[32m----> \u001b[39m\u001b[32m1\u001b[39m \u001b[38;5;28;01mfrom\u001b[39;00m\u001b[38;5;250m \u001b[39m\u001b[34;01m.\u001b[39;00m\u001b[34;01mcore\u001b[39;00m\u001b[38;5;250m \u001b[39m\u001b[38;5;28;01mimport\u001b[39;00m (\n\u001b[32m      2\u001b[39m     delete_password,\n\u001b[32m      3\u001b[39m     get_credential,\n\u001b[32m      4\u001b[39m     get_keyring,\n\u001b[32m      5\u001b[39m     get_password,\n\u001b[32m      6\u001b[39m     set_keyring,\n\u001b[32m      7\u001b[39m     set_password,\n\u001b[32m      8\u001b[39m )\n\u001b[32m     10\u001b[39m __all__ = (\n\u001b[32m     11\u001b[39m     \u001b[33m'\u001b[39m\u001b[33mset_keyring\u001b[39m\u001b[33m'\u001b[39m,\n\u001b[32m     12\u001b[39m     \u001b[33m'\u001b[39m\u001b[33mget_keyring\u001b[39m\u001b[33m'\u001b[39m,\n\u001b[32m   (...)\u001b[39m\u001b[32m     16\u001b[39m     \u001b[33m'\u001b[39m\u001b[33mget_credential\u001b[39m\u001b[33m'\u001b[39m,\n\u001b[32m     17\u001b[39m )\n",
      "\u001b[36mFile \u001b[39m\u001b[32m~/workspace/.venv/lib/python3.11/site-packages/keyring/core.py:11\u001b[39m\n\u001b[32m      8\u001b[39m \u001b[38;5;28;01mimport\u001b[39;00m\u001b[38;5;250m \u001b[39m\u001b[34;01msys\u001b[39;00m\n\u001b[32m      9\u001b[39m \u001b[38;5;28;01mimport\u001b[39;00m\u001b[38;5;250m \u001b[39m\u001b[34;01mtyping\u001b[39;00m\n\u001b[32m---> \u001b[39m\u001b[32m11\u001b[39m \u001b[38;5;28;01mfrom\u001b[39;00m\u001b[38;5;250m \u001b[39m\u001b[34;01m.\u001b[39;00m\u001b[38;5;250m \u001b[39m\u001b[38;5;28;01mimport\u001b[39;00m backend, credentials\n\u001b[32m     12\u001b[39m \u001b[38;5;28;01mfrom\u001b[39;00m\u001b[38;5;250m \u001b[39m\u001b[34;01m.\u001b[39;00m\u001b[34;01mbackends\u001b[39;00m\u001b[38;5;250m \u001b[39m\u001b[38;5;28;01mimport\u001b[39;00m fail\n\u001b[32m     13\u001b[39m \u001b[38;5;28;01mfrom\u001b[39;00m\u001b[38;5;250m \u001b[39m\u001b[34;01m.\u001b[39;00m\u001b[34;01mutil\u001b[39;00m\u001b[38;5;250m \u001b[39m\u001b[38;5;28;01mimport\u001b[39;00m platform_ \u001b[38;5;28;01mas\u001b[39;00m platform\n",
      "\u001b[36mFile \u001b[39m\u001b[32m~/workspace/.venv/lib/python3.11/site-packages/keyring/backend.py:20\u001b[39m\n\u001b[32m     17\u001b[39m \u001b[38;5;28;01mfrom\u001b[39;00m\u001b[38;5;250m \u001b[39m\u001b[34;01mjaraco\u001b[39;00m\u001b[34;01m.\u001b[39;00m\u001b[34;01mfunctools\u001b[39;00m\u001b[38;5;250m \u001b[39m\u001b[38;5;28;01mimport\u001b[39;00m once\n\u001b[32m     19\u001b[39m \u001b[38;5;28;01mfrom\u001b[39;00m\u001b[38;5;250m \u001b[39m\u001b[34;01m.\u001b[39;00m\u001b[38;5;250m \u001b[39m\u001b[38;5;28;01mimport\u001b[39;00m credentials, errors, util\n\u001b[32m---> \u001b[39m\u001b[32m20\u001b[39m \u001b[38;5;28;01mfrom\u001b[39;00m\u001b[38;5;250m \u001b[39m\u001b[34;01m.\u001b[39;00m\u001b[34;01mcompat\u001b[39;00m\u001b[38;5;250m \u001b[39m\u001b[38;5;28;01mimport\u001b[39;00m properties\n\u001b[32m     21\u001b[39m \u001b[38;5;28;01mfrom\u001b[39;00m\u001b[38;5;250m \u001b[39m\u001b[34;01m.\u001b[39;00m\u001b[34;01mcompat\u001b[39;00m\u001b[34;01m.\u001b[39;00m\u001b[34;01mpy312\u001b[39;00m\u001b[38;5;250m \u001b[39m\u001b[38;5;28;01mimport\u001b[39;00m metadata\n\u001b[32m     23\u001b[39m log = logging.getLogger(\u001b[34m__name__\u001b[39m)\n",
      "\u001b[36mFile \u001b[39m\u001b[32m<frozen importlib._bootstrap>:1176\u001b[39m, in \u001b[36m_find_and_load\u001b[39m\u001b[34m(name, import_)\u001b[39m\n",
      "\u001b[36mFile \u001b[39m\u001b[32m<frozen importlib._bootstrap>:1147\u001b[39m, in \u001b[36m_find_and_load_unlocked\u001b[39m\u001b[34m(name, import_)\u001b[39m\n",
      "\u001b[36mFile \u001b[39m\u001b[32m<frozen importlib._bootstrap>:690\u001b[39m, in \u001b[36m_load_unlocked\u001b[39m\u001b[34m(spec)\u001b[39m\n",
      "\u001b[36mFile \u001b[39m\u001b[32m<frozen importlib._bootstrap_external>:936\u001b[39m, in \u001b[36mexec_module\u001b[39m\u001b[34m(self, module)\u001b[39m\n",
      "\u001b[36mFile \u001b[39m\u001b[32m<frozen importlib._bootstrap_external>:1032\u001b[39m, in \u001b[36mget_code\u001b[39m\u001b[34m(self, fullname)\u001b[39m\n",
      "\u001b[36mFile \u001b[39m\u001b[32m<frozen importlib._bootstrap_external>:1130\u001b[39m, in \u001b[36mget_data\u001b[39m\u001b[34m(self, path)\u001b[39m\n",
      "\u001b[31mKeyboardInterrupt\u001b[39m: "
     ]
    }
   ],
   "source": [
    "import os\n",
    "import pandas as pd\n",
    "import warnings\n",
    "from komodo.snowflake import get_snowflake_connection\n",
    "from komodo.client import Client\n",
    "\n",
    "client = Client()\n",
    "\n",
    "# Connect to Snowflake\n",
    "warnings.filterwarnings(\"ignore\", category=UserWarning)\n",
    "pd.set_option(\"display.max_columns\", None)\n",
    "account_id = os.getenv(\"KOMODO_ACCOUNT_ID\")\n",
    "conn = get_snowflake_connection(account_id)\n",
    "curs = conn.cursor()\n",
    "curs.execute(\"USE ROLE CUSTOMER_ROLE\")"
   ]
  },
  {
   "cell_type": "code",
   "execution_count": null,
   "metadata": {},
   "outputs": [
    {
     "name": "stdout",
     "output_type": "stream",
     "text": [
      "Looking in indexes: https://pulp.onkomodo.com/pypi/internal/simple/\n",
      "Requirement already satisfied: streamlit in /home/dragon/workspaces/current/workspace/.venv/lib/python3.11/site-packages (1.44.1)\n",
      "Requirement already satisfied: polars in /home/dragon/workspaces/current/workspace/.venv/lib/python3.11/site-packages (1.27.1)\n",
      "Requirement already satisfied: plotly in /home/dragon/workspaces/current/workspace/.venv/lib/python3.11/site-packages (6.0.1)\n",
      "Requirement already satisfied: altair<6,>=4.0 in /home/dragon/workspaces/current/workspace/.venv/lib/python3.11/site-packages (from streamlit) (5.5.0)\n",
      "Requirement already satisfied: blinker<2,>=1.0.0 in /home/dragon/workspaces/current/workspace/.venv/lib/python3.11/site-packages (from streamlit) (1.9.0)\n",
      "Requirement already satisfied: cachetools<6,>=4.0 in /home/dragon/workspaces/current/workspace/.venv/lib/python3.11/site-packages (from streamlit) (5.5.2)\n",
      "Requirement already satisfied: click<9,>=7.0 in /home/dragon/workspaces/current/workspace/.venv/lib/python3.11/site-packages (from streamlit) (8.1.8)\n",
      "Requirement already satisfied: numpy<3,>=1.23 in /home/dragon/workspaces/current/workspace/.venv/lib/python3.11/site-packages (from streamlit) (2.2.4)\n",
      "Requirement already satisfied: packaging<25,>=20 in /home/dragon/workspaces/current/workspace/.venv/lib/python3.11/site-packages (from streamlit) (24.2)\n",
      "Requirement already satisfied: pandas<3,>=1.4.0 in /home/dragon/workspaces/current/workspace/.venv/lib/python3.11/site-packages (from streamlit) (2.2.3)\n",
      "Requirement already satisfied: pillow<12,>=7.1.0 in /home/dragon/workspaces/current/workspace/.venv/lib/python3.11/site-packages (from streamlit) (11.2.1)\n",
      "Requirement already satisfied: protobuf<6,>=3.20 in /home/dragon/workspaces/current/workspace/.venv/lib/python3.11/site-packages (from streamlit) (5.29.4)\n",
      "Requirement already satisfied: pyarrow>=7.0 in /home/dragon/workspaces/current/workspace/.venv/lib/python3.11/site-packages (from streamlit) (19.0.1)\n",
      "Requirement already satisfied: requests<3,>=2.27 in /home/dragon/workspaces/current/workspace/.venv/lib/python3.11/site-packages (from streamlit) (2.32.3)\n",
      "Requirement already satisfied: tenacity<10,>=8.1.0 in /home/dragon/workspaces/current/workspace/.venv/lib/python3.11/site-packages (from streamlit) (9.1.2)\n",
      "Requirement already satisfied: toml<2,>=0.10.1 in /home/dragon/workspaces/current/workspace/.venv/lib/python3.11/site-packages (from streamlit) (0.10.2)\n",
      "Requirement already satisfied: typing-extensions<5,>=4.4.0 in /home/dragon/workspaces/current/workspace/.venv/lib/python3.11/site-packages (from streamlit) (4.13.0)\n",
      "Requirement already satisfied: watchdog<7,>=2.1.5 in /home/dragon/workspaces/current/workspace/.venv/lib/python3.11/site-packages (from streamlit) (6.0.0)\n",
      "Requirement already satisfied: gitpython!=3.1.19,<4,>=3.0.7 in /home/dragon/workspaces/current/workspace/.venv/lib/python3.11/site-packages (from streamlit) (3.1.44)\n",
      "Requirement already satisfied: pydeck<1,>=0.8.0b4 in /home/dragon/workspaces/current/workspace/.venv/lib/python3.11/site-packages (from streamlit) (0.9.1)\n",
      "Requirement already satisfied: tornado<7,>=6.0.3 in /home/dragon/workspaces/current/workspace/.venv/lib/python3.11/site-packages (from streamlit) (6.4.2)\n",
      "Requirement already satisfied: narwhals>=1.15.1 in /home/dragon/workspaces/current/workspace/.venv/lib/python3.11/site-packages (from plotly) (1.35.0)\n",
      "Requirement already satisfied: jinja2 in /home/dragon/workspaces/current/workspace/.venv/lib/python3.11/site-packages (from altair<6,>=4.0->streamlit) (3.1.6)\n",
      "Requirement already satisfied: jsonschema>=3.0 in /home/dragon/workspaces/current/workspace/.venv/lib/python3.11/site-packages (from altair<6,>=4.0->streamlit) (4.23.0)\n",
      "Requirement already satisfied: gitdb<5,>=4.0.1 in /home/dragon/workspaces/current/workspace/.venv/lib/python3.11/site-packages (from gitpython!=3.1.19,<4,>=3.0.7->streamlit) (4.0.12)\n",
      "Requirement already satisfied: python-dateutil>=2.8.2 in /home/dragon/workspaces/current/workspace/.venv/lib/python3.11/site-packages (from pandas<3,>=1.4.0->streamlit) (2.9.0.post0)\n",
      "Requirement already satisfied: pytz>=2020.1 in /home/dragon/workspaces/current/workspace/.venv/lib/python3.11/site-packages (from pandas<3,>=1.4.0->streamlit) (2025.2)\n",
      "Requirement already satisfied: tzdata>=2022.7 in /home/dragon/workspaces/current/workspace/.venv/lib/python3.11/site-packages (from pandas<3,>=1.4.0->streamlit) (2025.2)\n",
      "Requirement already satisfied: charset-normalizer<4,>=2 in /home/dragon/workspaces/current/workspace/.venv/lib/python3.11/site-packages (from requests<3,>=2.27->streamlit) (3.4.1)\n",
      "Requirement already satisfied: idna<4,>=2.5 in /home/dragon/workspaces/current/workspace/.venv/lib/python3.11/site-packages (from requests<3,>=2.27->streamlit) (3.10)\n",
      "Requirement already satisfied: urllib3<3,>=1.21.1 in /home/dragon/workspaces/current/workspace/.venv/lib/python3.11/site-packages (from requests<3,>=2.27->streamlit) (2.3.0)\n",
      "Requirement already satisfied: certifi>=2017.4.17 in /home/dragon/workspaces/current/workspace/.venv/lib/python3.11/site-packages (from requests<3,>=2.27->streamlit) (2025.1.31)\n",
      "Requirement already satisfied: smmap<6,>=3.0.1 in /home/dragon/workspaces/current/workspace/.venv/lib/python3.11/site-packages (from gitdb<5,>=4.0.1->gitpython!=3.1.19,<4,>=3.0.7->streamlit) (5.0.2)\n",
      "Requirement already satisfied: MarkupSafe>=2.0 in /home/dragon/workspaces/current/workspace/.venv/lib/python3.11/site-packages (from jinja2->altair<6,>=4.0->streamlit) (3.0.2)\n",
      "Requirement already satisfied: attrs>=22.2.0 in /home/dragon/workspaces/current/workspace/.venv/lib/python3.11/site-packages (from jsonschema>=3.0->altair<6,>=4.0->streamlit) (25.3.0)\n",
      "Requirement already satisfied: jsonschema-specifications>=2023.03.6 in /home/dragon/workspaces/current/workspace/.venv/lib/python3.11/site-packages (from jsonschema>=3.0->altair<6,>=4.0->streamlit) (2024.10.1)\n",
      "Requirement already satisfied: referencing>=0.28.4 in /home/dragon/workspaces/current/workspace/.venv/lib/python3.11/site-packages (from jsonschema>=3.0->altair<6,>=4.0->streamlit) (0.36.2)\n",
      "Requirement already satisfied: rpds-py>=0.7.1 in /home/dragon/workspaces/current/workspace/.venv/lib/python3.11/site-packages (from jsonschema>=3.0->altair<6,>=4.0->streamlit) (0.24.0)\n",
      "Requirement already satisfied: six>=1.5 in /home/dragon/workspaces/current/workspace/.venv/lib/python3.11/site-packages (from python-dateutil>=2.8.2->pandas<3,>=1.4.0->streamlit) (1.17.0)\n"
     ]
    }
   ],
   "source": [
    "!pip install streamlit polars plotly \n"
   ]
  },
  {
   "cell_type": "code",
   "execution_count": null,
   "metadata": {},
   "outputs": [],
   "source": [
    "# Function to output the Snowflake table location for our PLAID datasets\n",
    "def get_snowflake_location_from_dataset_id(dataset_id):\n",
    "    try:\n",
    "        # Retrieves a dataset. Requires permission platform_data_integration:dataset:read\n",
    "        get_dataset_response = client.data_catalog.get_dataset(dataset_id)\n",
    "    except Exception as e:\n",
    "        print(f\"Exception when calling DatasetsApi->get_dataset: {e}\")\n",
    "        get_dataset_response = None\n",
    "\n",
    "    if get_dataset_response:\n",
    "        try:\n",
    "            # Access the manifestations list\n",
    "            manifestations = getattr(get_dataset_response, \"manifestations\", [])\n",
    "\n",
    "            # Extract table_name from the first manifestation object\n",
    "            if manifestations and len(manifestations) > 0:\n",
    "                snowflake_location = getattr(\n",
    "                    manifestations[0], \"fully_qualified_name\", None\n",
    "                )\n",
    "                if not snowflake_location:\n",
    "                    print(\n",
    "                        \"Snowflake location not found in the first manifestation object.\"\n",
    "                    )\n",
    "            else:\n",
    "                print(\"No data found in the dataset response.\")\n",
    "        except AttributeError as attr_error:\n",
    "            print(f\"Error accessing table name: {attr_error}\")\n",
    "    else:\n",
    "        print(\"Dataset response is empty or invalid.\")\n",
    "\n",
    "    return snowflake_location"
   ]
  },
  {
   "cell_type": "code",
   "execution_count": null,
   "metadata": {},
   "outputs": [],
   "source": [
    "# Plaid Dataset IDs for the Cancer Cohort (we can swap these out with a different cohort later if needed)\n",
    "patient_mortality_id = \"7fd3aa7a-3a46-4255-a985-f41abb34d454\"\n",
    "medical_events_id = \"4aa719bf-ede6-471a-aef5-73c5c43f8aea\"\n",
    "pharmacy_events_id = \"f96771d3-0300-48e0-a96a-0a97debc33f7\"\n",
    "patient_demographics_id = \"fc518f94-c2ed-4038-ada9-3f0873577acf\"\n",
    "race_ethnicity_id = \"5c89a860-c53f-4be5-827f-747a95391c98\"\n",
    "providers_id = \"413ee509-d67a-45c1-bd1e-83c00839f62f\"\n",
    "insurance_id = \"c2211b91-c4f7-41c1-a80c-62a4119a01f4\"\n",
    "patient_geographic_id = \"a04b9d6c-abdc-4c0c-bb78-82d17db39672\"\n",
    "plans_id = \"04fb0851-4b0a-4948-bbc3-c880c24b5ef0\"\n",
    "closed_patients = \"a352fa1e-0fe1-4a87-b8eb-baaaed273bbc\"\n",
    "\n",
    "plaid_mx, plaid_rx, morty, demo, race, providers, insurance, geo, plans, patients = map(\n",
    "    get_snowflake_location_from_dataset_id,\n",
    "    (\n",
    "        medical_events_id,\n",
    "        pharmacy_events_id,\n",
    "        patient_mortality_id,\n",
    "        patient_demographics_id,\n",
    "        race_ethnicity_id,\n",
    "        providers_id,\n",
    "        insurance_id,\n",
    "        patient_geographic_id,\n",
    "        plans_id,\n",
    "        closed_patients,\n",
    "    ),\n",
    ")"
   ]
  },
  {
   "cell_type": "code",
   "execution_count": null,
   "metadata": {},
   "outputs": [],
   "source": [
    "sample_pct = 5"
   ]
  },
  {
   "cell_type": "code",
   "execution_count": null,
   "metadata": {},
   "outputs": [],
   "source": [
    "behemoth = f\"\"\"\n",
    "SELECT\n",
    "    mx.patient_id,\n",
    "    mx.medical_event_id,\n",
    "    mx.procedure_code,\n",
    "    mx.service_date,\n",
    "    mx.place_of_service,\n",
    "    mx.rendering_npi,\n",
    "    mx.diagnosis_codes,\n",
    "    pr.first_name,\n",
    "    pr.primary_specialty,\n",
    "    pr.provider_state,\n",
    "    pr.provider_zip,\n",
    "    pl.payer_name,\n",
    "    pl.kh_plan_id,\n",
    "    pl.parent_name,\n",
    "    d.patient_yob,\n",
    "    d.patient_gender\n",
    "FROM\n",
    "    {plaid_mx} AS mx\n",
    "JOIN\n",
    "    {providers} AS pr ON mx.rendering_npi = pr.npi\n",
    "JOIN\n",
    "    {demo} AS d ON mx.patient_id = d.patient_id\n",
    "JOIN\n",
    "    {geo} AS g ON mx.patient_id = g.patient_id\n",
    "JOIN\n",
    "    {plans} AS pl ON mx.kh_plan_id = pl.kh_plan_id\n",
    "\"\"\""
   ]
  },
  {
   "cell_type": "code",
   "execution_count": null,
   "metadata": {},
   "outputs": [],
   "source": [
    "komodo_df = pd.read_sql(behemoth, conn)\n",
    "komodo_df.to_csv(\"komodo_procedure_adoption.csv\", index=False)"
   ]
  },
  {
   "cell_type": "code",
   "execution_count": null,
   "metadata": {},
   "outputs": [],
   "source": []
  },
  {
   "cell_type": "code",
   "execution_count": null,
   "metadata": {},
   "outputs": [],
   "source": []
  }
 ],
 "metadata": {
  "kernelspec": {
   "display_name": ".venv",
   "language": "python",
   "name": "python3"
  },
  "language_info": {
   "codemirror_mode": {
    "name": "ipython",
    "version": 3
   },
   "file_extension": ".py",
   "mimetype": "text/x-python",
   "name": "python",
   "nbconvert_exporter": "python",
   "pygments_lexer": "ipython3",
   "version": "3.11.9"
  }
 },
 "nbformat": 4,
 "nbformat_minor": 2
}
