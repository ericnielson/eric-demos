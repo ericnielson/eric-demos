{
 "cells": [
  {
   "cell_type": "markdown",
   "metadata": {},
   "source": [
    "## HCP Filtering\n",
    "- Get Datasets from the results of Dataset Builder\n",
    "- Filter Medical Events table to return only rows with |HE| as a Modifier\n",
    "- Upload final dataset to MapView\n",
    "- Schedule refresh"
   ]
  },
  {
   "cell_type": "markdown",
   "metadata": {},
   "source": [
    "### Import Libraries & Connect to Snowflake"
   ]
  },
  {
   "cell_type": "code",
   "execution_count": 1,
   "metadata": {},
   "outputs": [
    {
     "name": "stderr",
     "output_type": "stream",
     "text": [
      "/home/dragon/workspaces/current/workspace/.venv/lib/python3.11/site-packages/snowflake/connector/options.py:108: UserWarning: You have an incompatible version of 'pyarrow' installed (19.0.1), please install a version that adheres to: 'pyarrow<19.0.0; extra == \"pandas\"'\n",
      "  warn_incompatible_dep(\n"
     ]
    },
    {
     "name": "stdout",
     "output_type": "stream",
     "text": [
      "--- Connecting to Snowflake ---\n"
     ]
    },
    {
     "name": "stderr",
     "output_type": "stream",
     "text": [
      "DEBUG:komodo_connector.connection_creators.snowflake.connect:REST API object was created: f82bd78b-1a87-4b6c-a121-dd977d140a9d.snowflakecomputing.com:443\n"
     ]
    },
    {
     "name": "stdout",
     "output_type": "stream",
     "text": [
      "--- Success connecting to Snowflake ---\n"
     ]
    }
   ],
   "source": [
    "### Import Libraries\n",
    "import os\n",
    "from komodo.client import Client\n",
    "from komodo.definitions.models.cohorts.cohort_create import CohortCreate\n",
    "from komodo.snowflake import get_snowflake_connection\n",
    "import pandas as pd\n",
    "from datetime import datetime\n",
    "from komodo.dataset import upload_dataset_to_maplab\n",
    "import pprint\n",
    "from komodo.analytics import AnalyticDefinitionVersion, AnalyticDefinition, AnalyticDialect, InputType, create_analytic_definition, create_dataflow_from_analytic_definition_version, run_dataflow, check_dataflow_run_status\n",
    "\n",
    "now = datetime.now()\n",
    "os.chdir(\"/home/dragon/workspaces/current/workspace/src/cookbook/\")\n",
    "client = Client()\n",
    "\n",
    "### Connect to Snowflake\n",
    "print(\"--- Connecting to Snowflake ---\")\n",
    "\n",
    "account_id = os.getenv(\"KOMODO_ACCOUNT_ID\")\n",
    "\n",
    "conn = get_snowflake_connection(account_id)\n",
    "curs = conn.cursor()\n",
    "curs.execute(\"USE ROLE CUSTOMER_ROLE\")\n",
    "print(\"--- Success connecting to Snowflake ---\")"
   ]
  },
  {
   "cell_type": "markdown",
   "metadata": {},
   "source": [
    "### Set Variables"
   ]
  },
  {
   "cell_type": "code",
   "execution_count": 2,
   "metadata": {},
   "outputs": [],
   "source": [
    "### Cohort ID\n",
    "\n",
    "cohort_id = \"fltr_def_NRKYCATAYYCAFIKS\"  # This is the Entyvia Cohort ID which you can get from either the UI or the Komodo Extensions tab in a Workspace\n",
    "\n",
    "### Dataset IDs from Dataset Builder or through Cookbook 3-retrieve-cohort-data\n",
    "\n",
    "rx_2024 = \"18a767b3-f04d-49d3-936a-1484f06ecf01\"\n",
    "rx_2025 = \"79d88eff-5173-4e4a-b592-08a88eddf90c\"\n",
    "providers_2024 = \"fda09832-d237-4966-bd72-ad33fed772bd\"\n",
    "providers_2025 = \"5daa29e2-4e05-4fe3-a08e-04ce4b056919\"\n"
   ]
  },
  {
   "cell_type": "markdown",
   "metadata": {},
   "source": [
    "### Get SnowflakeLocation & Turn into Pandas Dataframe"
   ]
  },
  {
   "cell_type": "code",
   "execution_count": 3,
   "metadata": {},
   "outputs": [
    {
     "name": "stdout",
     "output_type": "stream",
     "text": [
      "Providers table: RESULTS.DATAFLOWS.DFB_18A767B3_F04D_49D3_936A_1484F06ECF01\n",
      "Pharmacy Events table: RESULTS.DATAFLOWS.DFB_79D88EFF_5173_4E4A_B592_08A88EDDF90C\n",
      "Patient Geography table: RESULTS.DATAFLOWS.DFB_FDA09832_D237_4966_BD72_AD33FED772BD\n",
      "Patient Demographics table: RESULTS.DATAFLOWS.DFB_5DAA29E2_4E05_4FE3_A08E_04CE4B056919\n"
     ]
    }
   ],
   "source": [
    "def get_snowflake_location(dataset_id: str) -> str:\n",
    "    get_dataset_response = client.data_catalog.get_dataset(dataset_id)\n",
    "    return get_dataset_response.manifestations[0].fully_qualified_name\n",
    "\n",
    "rx_2024_table = get_snowflake_location(rx_2024)\n",
    "rx_2025_table = get_snowflake_location(rx_2025)\n",
    "providers_2024_table = get_snowflake_location(providers_2024)\n",
    "providers_2025_table = get_snowflake_location(providers_2025)\n",
    "\n",
    "\n",
    "# print the fully qualified name of the dataset table\n",
    "print(f\"Providers table: {rx_2024_table}\")\n",
    "print(f\"Pharmacy Events table: {rx_2025_table}\")\n",
    "print(f\"Patient Geography table: {providers_2024_table}\")\n",
    "print(f\"Patient Demographics table: {providers_2025_table}\")\n"
   ]
  },
  {
   "cell_type": "code",
   "execution_count": 4,
   "metadata": {},
   "outputs": [
    {
     "name": "stderr",
     "output_type": "stream",
     "text": [
      "/tmp/ipykernel_91698/1778162757.py:2: UserWarning: pandas only supports SQLAlchemy connectable (engine/connection) or database string URI or sqlite3 DBAPI2 connection. Other DBAPI2 objects are not tested. Please consider using SQLAlchemy.\n",
      "  rx_2024_data = pd.read_sql(f\"select * from {rx_2024_table}\", conn)\n"
     ]
    }
   ],
   "source": [
    "# turn SF table into pandas DF\n",
    "rx_2024_data = pd.read_sql(f\"select * from {rx_2024_table}\", conn)\n",
    "rx_2025_data = pd.read_sql(f\"select * from {rx_2025_table}\", conn)\n",
    "providers_2024_data = pd.read_sql(f\"select * from {providers_2024_table}\", conn)\n",
    "providers_2025_data = pd.read_sql(f\"select * from {providers_2025_table}\", conn)\n"
   ]
  },
  {
   "cell_type": "markdown",
   "metadata": {},
   "source": [
    "### Print Previews"
   ]
  },
  {
   "cell_type": "code",
   "execution_count": null,
   "metadata": {},
   "outputs": [
    {
     "name": "stdout",
     "output_type": "stream",
     "text": [
      " --- Providers Data ---\n"
     ]
    },
    {
     "data": {
      "text/html": [
       "<div>\n",
       "<style scoped>\n",
       "    .dataframe tbody tr th:only-of-type {\n",
       "        vertical-align: middle;\n",
       "    }\n",
       "\n",
       "    .dataframe tbody tr th {\n",
       "        vertical-align: top;\n",
       "    }\n",
       "\n",
       "    .dataframe thead th {\n",
       "        text-align: right;\n",
       "    }\n",
       "</style>\n",
       "<table border=\"1\" class=\"dataframe\">\n",
       "  <thead>\n",
       "    <tr style=\"text-align: right;\">\n",
       "      <th></th>\n",
       "      <th>FIRST_NAME</th>\n",
       "      <th>HCO_PRIMARY_NPI</th>\n",
       "      <th>LAST_NAME</th>\n",
       "      <th>NPI</th>\n",
       "      <th>ORGANIZATION_NAME</th>\n",
       "      <th>PRIMARY_SPECIALTY</th>\n",
       "      <th>PROVIDER_ADDRESS</th>\n",
       "      <th>PROVIDER_CITY</th>\n",
       "      <th>PROVIDER_PHONE_NUMBER</th>\n",
       "      <th>PROVIDER_STATE</th>\n",
       "      <th>PROVIDER_TYPE</th>\n",
       "      <th>PROVIDER_ZIP</th>\n",
       "      <th>SECONDARY_SPECIALTY</th>\n",
       "    </tr>\n",
       "  </thead>\n",
       "  <tbody>\n",
       "    <tr>\n",
       "      <th>0</th>\n",
       "      <td>DWIGHT</td>\n",
       "      <td>1477531580</td>\n",
       "      <td>MACERO</td>\n",
       "      <td>1215312046</td>\n",
       "      <td>None</td>\n",
       "      <td>Physician Assistant</td>\n",
       "      <td>825 EASTLAKE AVE E</td>\n",
       "      <td>SEATTLE</td>\n",
       "      <td>2065205000</td>\n",
       "      <td>WA</td>\n",
       "      <td>INDIVIDUAL</td>\n",
       "      <td>98109</td>\n",
       "      <td>None</td>\n",
       "    </tr>\n",
       "    <tr>\n",
       "      <th>1</th>\n",
       "      <td>ANDREW</td>\n",
       "      <td>1437292927</td>\n",
       "      <td>REZVANI</td>\n",
       "      <td>1609983485</td>\n",
       "      <td>None</td>\n",
       "      <td>Internal Medicine</td>\n",
       "      <td>300 PASTEUR DR</td>\n",
       "      <td>STANFORD</td>\n",
       "      <td>6507234000</td>\n",
       "      <td>CA</td>\n",
       "      <td>INDIVIDUAL</td>\n",
       "      <td>94305</td>\n",
       "      <td>Medical Oncology</td>\n",
       "    </tr>\n",
       "    <tr>\n",
       "      <th>2</th>\n",
       "      <td>BIJAL</td>\n",
       "      <td>1780653618</td>\n",
       "      <td>SHAH</td>\n",
       "      <td>1508023714</td>\n",
       "      <td>None</td>\n",
       "      <td>Internal Medicine</td>\n",
       "      <td>12902 MAGNOLIA DR</td>\n",
       "      <td>TAMPA</td>\n",
       "      <td>8137458212</td>\n",
       "      <td>FL</td>\n",
       "      <td>INDIVIDUAL</td>\n",
       "      <td>33612</td>\n",
       "      <td>Hematology &amp; Oncology</td>\n",
       "    </tr>\n",
       "    <tr>\n",
       "      <th>3</th>\n",
       "      <td>JANICE</td>\n",
       "      <td>1164493847</td>\n",
       "      <td>SAGNIS</td>\n",
       "      <td>1497369391</td>\n",
       "      <td>None</td>\n",
       "      <td>Nurse Practitioner</td>\n",
       "      <td>1959 NE PACIFIC STREET</td>\n",
       "      <td>SEATTLE</td>\n",
       "      <td>2065438736</td>\n",
       "      <td>WA</td>\n",
       "      <td>INDIVIDUAL</td>\n",
       "      <td>98195</td>\n",
       "      <td>Acute Care</td>\n",
       "    </tr>\n",
       "    <tr>\n",
       "      <th>4</th>\n",
       "      <td>DAVID</td>\n",
       "      <td>1912381203</td>\n",
       "      <td>BLATZ</td>\n",
       "      <td>1427661321</td>\n",
       "      <td>None</td>\n",
       "      <td>Physician Assistant</td>\n",
       "      <td>309 E 2ND ST</td>\n",
       "      <td>POMONA</td>\n",
       "      <td>9096236116</td>\n",
       "      <td>CA</td>\n",
       "      <td>INDIVIDUAL</td>\n",
       "      <td>91766</td>\n",
       "      <td>None</td>\n",
       "    </tr>\n",
       "  </tbody>\n",
       "</table>\n",
       "</div>"
      ],
      "text/plain": [
       "  FIRST_NAME HCO_PRIMARY_NPI LAST_NAME         NPI ORGANIZATION_NAME  \\\n",
       "0     DWIGHT      1477531580    MACERO  1215312046              None   \n",
       "1     ANDREW      1437292927   REZVANI  1609983485              None   \n",
       "2      BIJAL      1780653618      SHAH  1508023714              None   \n",
       "3     JANICE      1164493847    SAGNIS  1497369391              None   \n",
       "4      DAVID      1912381203     BLATZ  1427661321              None   \n",
       "\n",
       "     PRIMARY_SPECIALTY        PROVIDER_ADDRESS PROVIDER_CITY  \\\n",
       "0  Physician Assistant      825 EASTLAKE AVE E       SEATTLE   \n",
       "1    Internal Medicine          300 PASTEUR DR      STANFORD   \n",
       "2    Internal Medicine       12902 MAGNOLIA DR         TAMPA   \n",
       "3   Nurse Practitioner  1959 NE PACIFIC STREET       SEATTLE   \n",
       "4  Physician Assistant            309 E 2ND ST        POMONA   \n",
       "\n",
       "  PROVIDER_PHONE_NUMBER PROVIDER_STATE PROVIDER_TYPE PROVIDER_ZIP  \\\n",
       "0            2065205000             WA    INDIVIDUAL        98109   \n",
       "1            6507234000             CA    INDIVIDUAL        94305   \n",
       "2            8137458212             FL    INDIVIDUAL        33612   \n",
       "3            2065438736             WA    INDIVIDUAL        98195   \n",
       "4            9096236116             CA    INDIVIDUAL        91766   \n",
       "\n",
       "     SECONDARY_SPECIALTY  \n",
       "0                   None  \n",
       "1       Medical Oncology  \n",
       "2  Hematology & Oncology  \n",
       "3             Acute Care  \n",
       "4                   None  "
      ]
     },
     "execution_count": 6,
     "metadata": {},
     "output_type": "execute_result"
    }
   ],
   "source": [
    "# preview the first 5 rows\n",
    "print(\" --- Providers Data ---\")\n",
    "rx_2024_data.head()"
   ]
  },
  {
   "cell_type": "markdown",
   "metadata": {},
   "source": [
    "### Additional Analysis / Transformations"
   ]
  },
  {
   "cell_type": "code",
   "execution_count": null,
   "metadata": {},
   "outputs": [
    {
     "name": "stderr",
     "output_type": "stream",
     "text": [
      "/tmp/ipykernel_51178/1448806149.py:8: UserWarning: pandas only supports SQLAlchemy connectable (engine/connection) or database string URI or sqlite3 DBAPI2 connection. Other DBAPI2 objects are not tested. Please consider using SQLAlchemy.\n",
      "  final_dataset = pd.read_sql(sql_query, conn)\n"
     ]
    },
    {
     "data": {
      "text/html": [
       "<div>\n",
       "<style scoped>\n",
       "    .dataframe tbody tr th:only-of-type {\n",
       "        vertical-align: middle;\n",
       "    }\n",
       "\n",
       "    .dataframe tbody tr th {\n",
       "        vertical-align: top;\n",
       "    }\n",
       "\n",
       "    .dataframe thead th {\n",
       "        text-align: right;\n",
       "    }\n",
       "</style>\n",
       "<table border=\"1\" class=\"dataframe\">\n",
       "  <thead>\n",
       "    <tr style=\"text-align: right;\">\n",
       "      <th></th>\n",
       "      <th>BILLING_NPI</th>\n",
       "      <th>BILLING_NPI_CONFIDENCE</th>\n",
       "      <th>BILL_TYPE_CODE</th>\n",
       "      <th>DIAGNOSIS_CODES</th>\n",
       "      <th>EVENT_SOURCE</th>\n",
       "      <th>KH_PLAN_ID</th>\n",
       "      <th>MEDICAL_EVENT_ID</th>\n",
       "      <th>MODIFIERS</th>\n",
       "      <th>NDC11</th>\n",
       "      <th>PATIENT_ID</th>\n",
       "      <th>...</th>\n",
       "      <th>PROCEDURE_CODE</th>\n",
       "      <th>PROCEDURE_CODE_TYPE</th>\n",
       "      <th>REFERRING_NPI</th>\n",
       "      <th>RENDERING_NPI</th>\n",
       "      <th>REVENUE_CODE</th>\n",
       "      <th>SERVICE_DATE</th>\n",
       "      <th>SERVICE_TO_DATE</th>\n",
       "      <th>UNITS</th>\n",
       "      <th>UNIT_TYPE</th>\n",
       "      <th>VISIT_TYPE</th>\n",
       "    </tr>\n",
       "  </thead>\n",
       "  <tbody>\n",
       "    <tr>\n",
       "      <th>0</th>\n",
       "      <td>1780653618</td>\n",
       "      <td>A - KNOWN</td>\n",
       "      <td>137</td>\n",
       "      <td>|C9002|Z01810|I10|Z79899|</td>\n",
       "      <td>INSTITUTIONAL</td>\n",
       "      <td>6411.0</td>\n",
       "      <td>ed87c5fd0983a75201e0d6c45cbe48fb32fd030e0de0a6...</td>\n",
       "      <td>|XE|</td>\n",
       "      <td>None</td>\n",
       "      <td>2KQ2VZ1R</td>\n",
       "      <td>...</td>\n",
       "      <td>93005</td>\n",
       "      <td>CPT</td>\n",
       "      <td>None</td>\n",
       "      <td>1679869507</td>\n",
       "      <td>0730</td>\n",
       "      <td>2024-11-20</td>\n",
       "      <td>2024-11-20</td>\n",
       "      <td>1.0</td>\n",
       "      <td>None</td>\n",
       "      <td>OUTPATIENT</td>\n",
       "    </tr>\n",
       "    <tr>\n",
       "      <th>1</th>\n",
       "      <td>1568693554</td>\n",
       "      <td>A - KNOWN</td>\n",
       "      <td>None</td>\n",
       "      <td>|Z86718|E6601|Z6836|</td>\n",
       "      <td>PROFESSIONAL</td>\n",
       "      <td>6411.0</td>\n",
       "      <td>878b39e0b5a3645f8e91a0acfb56d3ffb97e30d9789c96...</td>\n",
       "      <td>|QW|</td>\n",
       "      <td>None</td>\n",
       "      <td>2KQ2VZ1R</td>\n",
       "      <td>...</td>\n",
       "      <td>85610</td>\n",
       "      <td>CPT</td>\n",
       "      <td>None</td>\n",
       "      <td>1609846633</td>\n",
       "      <td>None</td>\n",
       "      <td>2023-02-15</td>\n",
       "      <td>2023-02-15</td>\n",
       "      <td>1.0</td>\n",
       "      <td>None</td>\n",
       "      <td>OUTPATIENT</td>\n",
       "    </tr>\n",
       "    <tr>\n",
       "      <th>2</th>\n",
       "      <td>1821156035</td>\n",
       "      <td>A - KNOWN</td>\n",
       "      <td>None</td>\n",
       "      <td>|D892|N16|K648|K621|</td>\n",
       "      <td>PROFESSIONAL</td>\n",
       "      <td>6411.0</td>\n",
       "      <td>b33c1820ad36ddfd37d18ce85f75deeaf294944c7523f5...</td>\n",
       "      <td>|26|</td>\n",
       "      <td>None</td>\n",
       "      <td>2KQ2VZ1R</td>\n",
       "      <td>...</td>\n",
       "      <td>88313</td>\n",
       "      <td>CPT</td>\n",
       "      <td>1003858275</td>\n",
       "      <td>1699084145</td>\n",
       "      <td>None</td>\n",
       "      <td>2016-12-23</td>\n",
       "      <td>2016-12-23</td>\n",
       "      <td>4.0</td>\n",
       "      <td>None</td>\n",
       "      <td>INPATIENT</td>\n",
       "    </tr>\n",
       "    <tr>\n",
       "      <th>3</th>\n",
       "      <td>1821156035</td>\n",
       "      <td>A - KNOWN</td>\n",
       "      <td>None</td>\n",
       "      <td>|D892|N16|K648|K621|</td>\n",
       "      <td>PROFESSIONAL</td>\n",
       "      <td>6411.0</td>\n",
       "      <td>cb0360c4187201ce556d96c7232e3bc88a1d2f831bab06...</td>\n",
       "      <td>|26|</td>\n",
       "      <td>None</td>\n",
       "      <td>2KQ2VZ1R</td>\n",
       "      <td>...</td>\n",
       "      <td>88346</td>\n",
       "      <td>CPT</td>\n",
       "      <td>1003858275</td>\n",
       "      <td>1699084145</td>\n",
       "      <td>None</td>\n",
       "      <td>2016-12-23</td>\n",
       "      <td>2016-12-23</td>\n",
       "      <td>1.0</td>\n",
       "      <td>None</td>\n",
       "      <td>INPATIENT</td>\n",
       "    </tr>\n",
       "    <tr>\n",
       "      <th>4</th>\n",
       "      <td>1306833595</td>\n",
       "      <td>A - KNOWN</td>\n",
       "      <td>None</td>\n",
       "      <td>|D472|</td>\n",
       "      <td>PROFESSIONAL</td>\n",
       "      <td>6411.0</td>\n",
       "      <td>4e27d4d112c7c6cb051333f6118c547be619ca7149ca4c...</td>\n",
       "      <td>|26|</td>\n",
       "      <td>None</td>\n",
       "      <td>2KQ2VZ1R</td>\n",
       "      <td>...</td>\n",
       "      <td>84165</td>\n",
       "      <td>CPT</td>\n",
       "      <td>1679869507</td>\n",
       "      <td>1134374002</td>\n",
       "      <td>None</td>\n",
       "      <td>2024-12-02</td>\n",
       "      <td>2024-12-02</td>\n",
       "      <td>1.0</td>\n",
       "      <td>None</td>\n",
       "      <td>OUTPATIENT</td>\n",
       "    </tr>\n",
       "  </tbody>\n",
       "</table>\n",
       "<p>5 rows × 21 columns</p>\n",
       "</div>"
      ],
      "text/plain": [
       "  BILLING_NPI BILLING_NPI_CONFIDENCE BILL_TYPE_CODE  \\\n",
       "0  1780653618              A - KNOWN            137   \n",
       "1  1568693554              A - KNOWN           None   \n",
       "2  1821156035              A - KNOWN           None   \n",
       "3  1821156035              A - KNOWN           None   \n",
       "4  1306833595              A - KNOWN           None   \n",
       "\n",
       "             DIAGNOSIS_CODES   EVENT_SOURCE  KH_PLAN_ID  \\\n",
       "0  |C9002|Z01810|I10|Z79899|  INSTITUTIONAL      6411.0   \n",
       "1       |Z86718|E6601|Z6836|   PROFESSIONAL      6411.0   \n",
       "2       |D892|N16|K648|K621|   PROFESSIONAL      6411.0   \n",
       "3       |D892|N16|K648|K621|   PROFESSIONAL      6411.0   \n",
       "4                     |D472|   PROFESSIONAL      6411.0   \n",
       "\n",
       "                                    MEDICAL_EVENT_ID MODIFIERS NDC11  \\\n",
       "0  ed87c5fd0983a75201e0d6c45cbe48fb32fd030e0de0a6...      |XE|  None   \n",
       "1  878b39e0b5a3645f8e91a0acfb56d3ffb97e30d9789c96...      |QW|  None   \n",
       "2  b33c1820ad36ddfd37d18ce85f75deeaf294944c7523f5...      |26|  None   \n",
       "3  cb0360c4187201ce556d96c7232e3bc88a1d2f831bab06...      |26|  None   \n",
       "4  4e27d4d112c7c6cb051333f6118c547be619ca7149ca4c...      |26|  None   \n",
       "\n",
       "  PATIENT_ID  ... PROCEDURE_CODE PROCEDURE_CODE_TYPE REFERRING_NPI  \\\n",
       "0   2KQ2VZ1R  ...          93005                 CPT          None   \n",
       "1   2KQ2VZ1R  ...          85610                 CPT          None   \n",
       "2   2KQ2VZ1R  ...          88313                 CPT    1003858275   \n",
       "3   2KQ2VZ1R  ...          88346                 CPT    1003858275   \n",
       "4   2KQ2VZ1R  ...          84165                 CPT    1679869507   \n",
       "\n",
       "  RENDERING_NPI REVENUE_CODE SERVICE_DATE SERVICE_TO_DATE UNITS  UNIT_TYPE  \\\n",
       "0    1679869507         0730   2024-11-20      2024-11-20   1.0       None   \n",
       "1    1609846633         None   2023-02-15      2023-02-15   1.0       None   \n",
       "2    1699084145         None   2016-12-23      2016-12-23   4.0       None   \n",
       "3    1699084145         None   2016-12-23      2016-12-23   1.0       None   \n",
       "4    1134374002         None   2024-12-02      2024-12-02   1.0       None   \n",
       "\n",
       "   VISIT_TYPE  \n",
       "0  OUTPATIENT  \n",
       "1  OUTPATIENT  \n",
       "2   INPATIENT  \n",
       "3   INPATIENT  \n",
       "4  OUTPATIENT  \n",
       "\n",
       "[5 rows x 21 columns]"
      ]
     },
     "execution_count": 7,
     "metadata": {},
     "output_type": "execute_result"
    }
   ],
   "source": [
    "rx_2024_query = f\"\"\"\n",
    "SELECT * \n",
    "FROM {rx_2024_data}\n",
    "LIMIT 1000\n",
    "\"\"\"\n",
    "curs.execute(rx_2024_query)\n",
    "pd.set_option('display.max_columns', None)\n",
    "\n",
    "rx_2024_final = pd.read_sql(rx_2024_query, conn)\n",
    "print(\"--- Success querying data ---\")\n",
    "\n",
    "rx_2024_final.head(5)"
   ]
  },
  {
   "cell_type": "code",
   "execution_count": null,
   "metadata": {},
   "outputs": [],
   "source": [
    "providers_2024_query = f\"\"\"\n",
    "SELECT * \n",
    "FROM {providers_2024_data}\n",
    "LIMIT 1000\n",
    "\"\"\"\n",
    "curs.execute(providers_2024_query)\n",
    "pd.set_option('display.max_columns', None)\n",
    "\n",
    "providers_2024_final = pd.read_sql(providers_2024_query, conn)\n",
    "print(\"--- Success querying data ---\")\n",
    "\n",
    "providers_2024_final.head(5)"
   ]
  },
  {
   "cell_type": "code",
   "execution_count": null,
   "metadata": {},
   "outputs": [],
   "source": [
    "rx_2025_query = f\"\"\"\n",
    "SELECT * \n",
    "FROM {rx_2025_data}\n",
    "LIMIT 1000\n",
    "\"\"\"\n",
    "curs.execute(rx_2025_query)\n",
    "pd.set_option('display.max_columns', None)\n",
    "\n",
    "rx_2025_final = pd.read_sql(rx_2025_query, conn)\n",
    "print(\"--- Success querying data ---\")\n",
    "\n",
    "rx_2025_final.head(5)"
   ]
  },
  {
   "cell_type": "code",
   "execution_count": null,
   "metadata": {},
   "outputs": [],
   "source": [
    "providers_2025_query = f\"\"\"\n",
    "SELECT * \n",
    "FROM {providers_2025_data}\n",
    "LIMIT 1000\n",
    "\"\"\"\n",
    "curs.execute(providers_2025_query)\n",
    "pd.set_option('display.max_columns', None)\n",
    "\n",
    "providers_2025_final = pd.read_sql(providers_2025_query, conn)\n",
    "print(\"--- Success querying data ---\")\n",
    "\n",
    "providers_2025_final.head(5)"
   ]
  },
  {
   "cell_type": "code",
   "execution_count": null,
   "metadata": {},
   "outputs": [],
   "source": [
    "unique_query = f\"\"\"\n",
    "SELECT PRESCRIBER_NPI\n",
    "FROM {rx_2025_final}\n",
    "EXCEPT\n",
    "SELECT PRESCRIBER_NPI\n",
    "FROM {rx_2024_final};\n",
    "\"\"\"\n",
    "\n",
    "curs.execute(unique_query)\n",
    "pd.set_option('display.max_columns', None)\n",
    "\n",
    "uniques = pd.read_sql(unique_query, conn)\n",
    "print(\"--- Success querying data ---\")\n",
    "\n",
    "unique_providers = uniques.merge(providers_2025_final, left_on='PRESCRIBER_NPI', right_on='NPI', how='right')\n",
    "\n",
    "print(\"--- Success joining unique NPIs with providers_2025 ---\")\n",
    "print(unique_providers.head(25))"
   ]
  },
  {
   "cell_type": "markdown",
   "metadata": {},
   "source": [
    "### Save Analysis Dataset(s) to MapLab"
   ]
  },
  {
   "cell_type": "code",
   "execution_count": null,
   "metadata": {},
   "outputs": [
    {
     "name": "stderr",
     "output_type": "stream",
     "text": [
      "DEBUG:komodo_connector.connection_creators.snowflake.connect:REST API object was created: f82bd78b-1a87-4b6c-a121-dd977d140a9d.snowflakecomputing.com:443\n"
     ]
    },
    {
     "data": {
      "text/plain": [
       "(True, 'dataset_id', '71f59df3-5812-42d7-99a4-07337a7bffa4')"
      ]
     },
     "execution_count": 9,
     "metadata": {},
     "output_type": "execute_result"
    }
   ],
   "source": [
    "# set the name of the dataset to be uploaded to the Komodo platform\n",
    "# add the current date and time to the end of the dataset name to make it more distinct\n",
    "final_dataset_datetime = now.strftime(\"%Y%m%d_%H%M%S\")\n",
    "final_dataset_dataset_name = \"ENTYVIA_UNIQUE_HCPS\" + final_dataset_datetime\n",
    "\n",
    "# call the upload_dataset_to_maplab function\n",
    "dataset_upload_dataset = upload_dataset_to_maplab(final_dataset, final_dataset_dataset_name)\n",
    "\n",
    "# save the ID of the dataset\n",
    "dataset_id = dataset_upload_dataset.id\n",
    "\n",
    "# print the dataset ID\n",
    "dataset_id\n",
    "\n",
    "# store the dataset ID as an environment variable that can be used in subsequent cookbook files\n",
    "from dotenv import load_dotenv, set_key\n",
    "\n",
    "set_key(\".env\", \"dataset_id\", dataset_id)"
   ]
  },
  {
   "cell_type": "markdown",
   "metadata": {},
   "source": [
    "### Set Refresh Schedule"
   ]
  },
  {
   "cell_type": "code",
   "execution_count": null,
   "metadata": {},
   "outputs": [
    {
     "name": "stdout",
     "output_type": "stream",
     "text": [
      "Analytic definition: ea2be1a1-1514-4b78-9bfc-46eb0c477ae3\n",
      "Analytic definition version: 1bac2980-3c2b-43f0-b706-33229f22348d\n"
     ]
    }
   ],
   "source": [
    "### --- This table should be run as is without changes --- ###\n",
    "\n",
    "# call the create_analytic_definition function with the AnalyticDefinition instance\n",
    "create_analytic_definition_response = create_analytic_definition(analytic_definition = analytic_definition)\n",
    "\n",
    "# save the ID of the analytic definition\n",
    "create_analytic_definition_response_id = create_analytic_definition_response.get('id')\n",
    "\n",
    "# print the analytic definition ID\n",
    "print(f\"Analytic definition: {create_analytic_definition_response_id}\")\n",
    "\n",
    "# save the ID of the latest analytic definition version\n",
    "create_analytic_definition_response_latest_id = create_analytic_definition_response.get('latestVersion').get('id')\n",
    "\n",
    "# print the latest analytic definition version ID\n",
    "print(f\"Analytic definition version: {create_analytic_definition_response_latest_id}\")"
   ]
  },
  {
   "cell_type": "code",
   "execution_count": null,
   "metadata": {},
   "outputs": [],
   "source": [
    "# call the create_dataflow_from_analytic_definition_version function\n",
    "create_dataflow_response = create_dataflow_from_analytic_definition_version(\n",
    "    analytic_definition_version_id = create_analytic_definition_response.get(\"latestVersion\").get(\"id\"),\n",
    "    arguments = {\n",
    "        \"medical_events_table\": \"7322e8b3-6af8-4c5d-a92f-f114be9b3210\", #this is a dataset ID if using datasets\n",
    "    },\n",
    "    refresh_schedule = \"0 0 7 * *\"  # The refresh schedule uses a cron job. This one runs monthly at midnight UTC on the 15th\n",
    ")"
   ]
  },
  {
   "cell_type": "code",
   "execution_count": null,
   "metadata": {},
   "outputs": [
    {
     "name": "stdout",
     "output_type": "stream",
     "text": [
      "Dataflow: 26b93ac2-6140-4d47-a024-9c3348789db7\n"
     ]
    },
    {
     "data": {
      "text/plain": [
       "{'status': 'SCHEDULED'}"
      ]
     },
     "execution_count": 14,
     "metadata": {},
     "output_type": "execute_result"
    }
   ],
   "source": [
    "### --- This table should be run as is without changes --- ###\n",
    "\n",
    "# save the ID of the dataflow\n",
    "dataflow_id = create_dataflow_response[\"id\"]\n",
    "\n",
    "# print the dataflow ID\n",
    "print(f\"Dataflow: {dataflow_id}\")\n",
    " \n",
    "# call the run_dataflow function\n",
    "run_dataflow(dataflow_id)\n",
    "\n",
    "# call the check_dataflow_run_status function\n",
    "check_dataflow_run_status(dataflow_id)\n"
   ]
  }
 ],
 "metadata": {
  "kernelspec": {
   "display_name": ".venv",
   "language": "python",
   "name": "python3"
  },
  "language_info": {
   "codemirror_mode": {
    "name": "ipython",
    "version": 3
   },
   "file_extension": ".py",
   "mimetype": "text/x-python",
   "name": "python",
   "nbconvert_exporter": "python",
   "pygments_lexer": "ipython3",
   "version": "3.11.9"
  }
 },
 "nbformat": 4,
 "nbformat_minor": 2
}
