{
 "cells": [
  {
   "cell_type": "code",
   "execution_count": 1,
   "metadata": {},
   "outputs": [
    {
     "name": "stderr",
     "output_type": "stream",
     "text": [
      "/home/dragon/workspaces/current/workspace/.venv/lib/python3.11/site-packages/snowflake/connector/options.py:108: UserWarning: You have an incompatible version of 'pyarrow' installed (19.0.1), please install a version that adheres to: 'pyarrow<19.0.0; extra == \"pandas\"'\n",
      "  warn_incompatible_dep(\n"
     ]
    }
   ],
   "source": [
    "### Import Libraries\n",
    "import os\n",
    "from komodo.client import Client\n",
    "from komodo.definitions.models.cohorts.cohort_create import CohortCreate\n",
    "from komodo.snowflake import get_snowflake_connection\n",
    "import pandas as pd\n",
    "from datetime import datetime\n",
    "from komodo.dataset import upload_dataset_to_maplab\n",
    "import pprint\n",
    "from komodo.analytics import AnalyticDefinitionVersion, AnalyticDefinition, AnalyticDialect, InputType, create_analytic_definition, create_dataflow_from_analytic_definition_version, run_dataflow, check_dataflow_run_status"
   ]
  },
  {
   "cell_type": "code",
   "execution_count": 2,
   "metadata": {},
   "outputs": [
    {
     "name": "stdout",
     "output_type": "stream",
     "text": [
      "Analytic definition: 6a014818-9739-4a1b-995b-8f2a4e3d6f4f\n",
      "Analytic definition version: b0377adf-22e1-4f78-a7d0-cc123369fc8d\n"
     ]
    }
   ],
   "source": [
    "# save the ID of the analytic definition\n",
    "create_analytic_definition_response_id = \"6a014818-9739-4a1b-995b-8f2a4e3d6f4f\" ### Pull the AD ID from the config file\n",
    "\n",
    "# print the analytic definition ID\n",
    "print(f\"Analytic definition: {create_analytic_definition_response_id}\")\n",
    "\n",
    "# save the ID of the latest analytic definition version\n",
    "create_analytic_definition_response_latest_id = \"b0377adf-22e1-4f78-a7d0-cc123369fc8d\" ### Pull the AD version ID from the config file\n",
    "\n",
    "# print the latest analytic definition version ID\n",
    "print(f\"Analytic definition version: {create_analytic_definition_response_latest_id}\")"
   ]
  },
  {
   "cell_type": "code",
   "execution_count": 3,
   "metadata": {},
   "outputs": [
    {
     "name": "stdout",
     "output_type": "stream",
     "text": [
      "{'id': '6c6568f4-ebcc-4765-906b-5529ebccb8f4'}\n"
     ]
    }
   ],
   "source": [
    "# call the create_dataflow_from_analytic_definition_version function\n",
    "create_dataflow_response = create_dataflow_from_analytic_definition_version(\n",
    "    analytic_definition_version_id = create_analytic_definition_response_latest_id,\n",
    "    arguments = {\n",
    "        \"table_1\": \"f96771d3-0300-48e0-a96a-0a97debc33f7\",\n",
    "        \"table_2\": \"622d224d-e486-410c-b3ba-5b32a0307f19\"\n",
    "    },\n",
    ")\n",
    "\n",
    "print(create_dataflow_response)"
   ]
  },
  {
   "cell_type": "code",
   "execution_count": 4,
   "metadata": {},
   "outputs": [
    {
     "name": "stdout",
     "output_type": "stream",
     "text": [
      "Dataflow: 6c6568f4-ebcc-4765-906b-5529ebccb8f4\n"
     ]
    },
    {
     "data": {
      "text/plain": [
       "{'status': 'SCHEDULED'}"
      ]
     },
     "execution_count": 4,
     "metadata": {},
     "output_type": "execute_result"
    }
   ],
   "source": [
    "### --- This table should be run as is without changes --- ###\n",
    "\n",
    "# save the ID of the dataflow\n",
    "dataflow_id = create_dataflow_response[\"id\"]\n",
    "\n",
    "# print the dataflow ID\n",
    "print(f\"Dataflow: {dataflow_id}\")\n",
    " \n",
    "# call the run_dataflow function\n",
    "run_dataflow(dataflow_id)\n",
    "\n",
    "# call the check_dataflow_run_status function\n",
    "check_dataflow_run_status(dataflow_id)\n"
   ]
  }
 ],
 "metadata": {
  "kernelspec": {
   "display_name": ".venv",
   "language": "python",
   "name": "python3"
  },
  "language_info": {
   "codemirror_mode": {
    "name": "ipython",
    "version": 3
   },
   "file_extension": ".py",
   "mimetype": "text/x-python",
   "name": "python",
   "nbconvert_exporter": "python",
   "pygments_lexer": "ipython3",
   "version": "3.11.9"
  }
 },
 "nbformat": 4,
 "nbformat_minor": 2
}
