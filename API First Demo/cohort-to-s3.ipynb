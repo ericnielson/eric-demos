{
 "cells": [
  {
   "cell_type": "markdown",
   "metadata": {},
   "source": [
    "# Create a Cohort then Export the Data to S3"
   ]
  },
  {
   "cell_type": "markdown",
   "metadata": {},
   "source": [
    "## Import Libraries and Set Cohort ID"
   ]
  },
  {
   "cell_type": "code",
   "execution_count": 32,
   "metadata": {},
   "outputs": [],
   "source": [
    "import komodo\n",
    "from komodo.client import Client\n",
    "\n",
    "# Initialize Komodo Client\n",
    "client = Client()\n",
    "cohort_definition_id = \"fltr_def_NRKYCATAYYCAFIKS\"  # replace this cohort definition ID"
   ]
  },
  {
   "cell_type": "markdown",
   "metadata": {},
   "source": [
    "## Run Your Cohort"
   ]
  },
  {
   "cell_type": "code",
   "execution_count": 7,
   "metadata": {},
   "outputs": [],
   "source": [
    "# import the CohortCreate model from the Definitions API/business domain\n",
    "from komodo.definitions.models.cohorts.cohort_create import CohortCreate\n",
    "\n",
    "# create the JSON payload\n",
    "cohort_payload = {\n",
    "    \"name\": \"Cohort\",\n",
    "    \"definition\": {\n",
    "        \"cohort_definition\": {\n",
    "            \"filters\": [{\n",
    "                \"name\": \"filter_dfn\", \n",
    "                \"filter_definition\": {\"filter_definition_id\": cohort_definition_id},\n",
    "                \"time_filter\": {  # optional\n",
    "                    \"ranges\": [\n",
    "                        [\"2024-01-01\", \"2024-01-31\"]\n",
    "                    ]\n",
    "                }\n",
    "            }],\n",
    "            \"entities\": [\"patient\"],\n",
    "            \"source_filter\": {\n",
    "                \"version\": \"release\", \n",
    "                \"include_rejected_claims\": False\n",
    "            },\n",
    "        },\n",
    "        \"output_format\": {\n",
    "            \"count_entities\": False,\n",
    "            \"entities_to_count\": [],\n",
    "            \"outputs\": [{\n",
    "                \"output_format\": \"snowflake-table\",\n",
    "                \"output_type\": \"plaid-providers\",  # based on your subscription\n",
    "            }],\n",
    "        },\n",
    "    },\n",
    "    \"definition_schema_version\": \"1.0.0\",\n",
    "}\n",
    "\n",
    "# create the CohortCreate instance with the JSON payload\n",
    "cohort_create = CohortCreate.from_dict(cohort_payload)"
   ]
  },
  {
   "cell_type": "code",
   "execution_count": 35,
   "metadata": {},
   "outputs": [
    {
     "name": "stdout",
     "output_type": "stream",
     "text": [
      "Cohort status is QUEUED\n",
      "Cohort status is RUNNING\n",
      "Cohort status is RUNNING\n",
      "Cohort status is RUNNING\n",
      "Cohort status is RUNNING\n",
      "Cohort status is RUNNING\n",
      "Cohort status is RUNNING\n",
      "Cohort status is FINISHED\n"
     ]
    }
   ],
   "source": [
    "# create the Komodo client\n",
    "from komodo.client import Client\n",
    "client = Client()\n",
    "\n",
    "# call the create_cohort operation\n",
    "cohort_create_response = client.definitions.create_cohort(cohort_create)\n",
    "\n",
    "# save the ID of the cohort\n",
    "cohort_id = cohort_create_response.id\n",
    "\n",
    "# print the cohort ID\n",
    "cohort_id\n",
    "\n",
    "# store the cohort ID as an environment variable that can be used across cookbook files\n",
    "from dotenv import load_dotenv, set_key\n",
    "set_key('.env', 'cohort_id', cohort_id)\n",
    "\n",
    "from time import sleep\n",
    " \n",
    "cohort_response = client.definitions.get_cohort(cohort_id)\n",
    " \n",
    "while cohort_response.cohort_run.finished_at is None and cohort_response.cohort_run.error_message is None:\n",
    "    cohort_response = client.definitions.get_cohort(cohort_id)\n",
    "    print(f\"Cohort status is {cohort_response.cohort_run.status.value}\")\n",
    "    if cohort_response.cohort_run.status == \"FINISHED\":\n",
    "        break\n",
    "    sleep(5)"
   ]
  },
  {
   "cell_type": "code",
   "execution_count": 36,
   "metadata": {},
   "outputs": [],
   "source": [
    "try:\n",
    "    get_cohort_response = client.definitions.get_cohort(cohort_id)\n",
    "except Exception as e:\n",
    "    print(\"Exception when calling DefinitionsApi->get_cohort: %s\\n\" % e)\n"
   ]
  },
  {
   "cell_type": "code",
   "execution_count": 37,
   "metadata": {},
   "outputs": [
    {
     "name": "stdout",
     "output_type": "stream",
     "text": [
      "Exception when creating aggregation: 2 validation errors for AggregationCreateInput\n",
      "aggregate\n",
      "  Field required [type=missing, input_value={'name': 'Cohort', 'descr...: 'internal_medicine'}]}, input_type=dict]\n",
      "    For further information visit https://errors.pydantic.dev/2.11/v/missing\n",
      "cohort_definition\n",
      "  Field required [type=missing, input_value={'name': 'Cohort', 'descr...: 'internal_medicine'}]}, input_type=dict]\n",
      "    For further information visit https://errors.pydantic.dev/2.11/v/missing\n"
     ]
    }
   ],
   "source": [
    "try:\n",
    "    aggregation_create_input = komodo.AggregationCreateInput(\n",
    "        name=\"Cohort\",\n",
    "        description=\"Aggregation for demo cohort\",\n",
    "        cohort_id=cohort_id,\n",
    "        group_by=[\"primary_specialty\"],  # Example group by field\n",
    "        measures=[{\"measure\": \"internal_medicine\"}],  # Example measure\n",
    "    )\n",
    "    create_aggregation_response = client.definitions.create_aggregation(aggregation_create_input)\n",
    "    aggregation_id = create_aggregation_response.id\n",
    "    print(f\"Aggregation created with ID: {aggregation_id}\")\n",
    "except Exception as e:\n",
    "    print(f\"Exception when creating aggregation: {e}\")\n",
    "    exit()"
   ]
  },
  {
   "cell_type": "code",
   "execution_count": 19,
   "metadata": {},
   "outputs": [
    {
     "name": "stdout",
     "output_type": "stream",
     "text": [
      "Dataset table: COHORTS.PROD.COHORT_RUN_CHT_OLOEBCQUBIOFMBTP_0_PLAID_PROVIDERS\n"
     ]
    }
   ],
   "source": [
    "# create the Komodo client\n",
    "from komodo.client import Client\n",
    "\n",
    "client = Client()\n",
    "\n",
    "# call the get_cohort operation\n",
    "cohort_response = client.definitions.get_cohort(cohort_id=cohort_id)\n",
    "\n",
    "# retrieve the dataset ID of the cohort output\n",
    "cohort_snowflake_dataset_id = cohort_response.cohort_run.output.outputs[0].dataset_id\n",
    "\n",
    "# call the get_dataset operation\n",
    "cohort_snowflake_dataset2 = client.data_catalog.get_dataset(dataset_id=cohort_snowflake_dataset_id)\n",
    "\n",
    "# retrieve the fully qualified name of the dataset table\n",
    "cohort_snowflake_dataset_table2 = cohort_snowflake_dataset2.manifestations[0].fully_qualified_name\n",
    "\n",
    "# print the fully qualified name of the dataset table\n",
    "print(f\"Dataset table: {cohort_snowflake_dataset_table}\")"
   ]
  },
  {
   "cell_type": "markdown",
   "metadata": {},
   "source": [
    "## Convert Snowflake to Pandas "
   ]
  },
  {
   "cell_type": "code",
   "execution_count": 22,
   "metadata": {},
   "outputs": [
    {
     "name": "stderr",
     "output_type": "stream",
     "text": [
      "DEBUG:komodo_connector.connection_creators.snowflake.connect:REST API object was created: f82bd78b-1a87-4b6c-a121-dd977d140a9d.snowflakecomputing.com:443\n",
      "/tmp/ipykernel_368/3802850886.py:13: UserWarning: pandas only supports SQLAlchemy connectable (engine/connection) or database string URI or sqlite3 DBAPI2 connection. Other DBAPI2 objects are not tested. Please consider using SQLAlchemy.\n",
      "  cohort_data2 = pd.read_sql(f\"select * from {cohort_snowflake_dataset_table2} LIMIT 1000\", sf_connection)\n"
     ]
    },
    {
     "data": {
      "text/html": [
       "<div>\n",
       "<style scoped>\n",
       "    .dataframe tbody tr th:only-of-type {\n",
       "        vertical-align: middle;\n",
       "    }\n",
       "\n",
       "    .dataframe tbody tr th {\n",
       "        vertical-align: top;\n",
       "    }\n",
       "\n",
       "    .dataframe thead th {\n",
       "        text-align: right;\n",
       "    }\n",
       "</style>\n",
       "<table border=\"1\" class=\"dataframe\">\n",
       "  <thead>\n",
       "    <tr style=\"text-align: right;\">\n",
       "      <th></th>\n",
       "      <th>NPI</th>\n",
       "      <th>PROVIDER_TYPE</th>\n",
       "      <th>FIRST_NAME</th>\n",
       "      <th>LAST_NAME</th>\n",
       "      <th>ORGANIZATION_NAME</th>\n",
       "      <th>HCO_PRIMARY_NPI</th>\n",
       "      <th>PRIMARY_SPECIALTY</th>\n",
       "      <th>SECONDARY_SPECIALTY</th>\n",
       "      <th>PROVIDER_PHONE_NUMBER</th>\n",
       "      <th>PROVIDER_ADDRESS</th>\n",
       "      <th>PROVIDER_CITY</th>\n",
       "      <th>PROVIDER_STATE</th>\n",
       "      <th>PROVIDER_ZIP</th>\n",
       "    </tr>\n",
       "  </thead>\n",
       "  <tbody>\n",
       "    <tr>\n",
       "      <th>0</th>\n",
       "      <td>1932236387</td>\n",
       "      <td>INDIVIDUAL</td>\n",
       "      <td>LORI</td>\n",
       "      <td>ZIMMERMAN</td>\n",
       "      <td>None</td>\n",
       "      <td>1114969169</td>\n",
       "      <td>Pediatrics</td>\n",
       "      <td>Pediatric Gastroenterology</td>\n",
       "      <td>6173556058</td>\n",
       "      <td>300 LONGWOOD AVENUE, HUNN G</td>\n",
       "      <td>BOSTON</td>\n",
       "      <td>MA</td>\n",
       "      <td>02115</td>\n",
       "    </tr>\n",
       "    <tr>\n",
       "      <th>1</th>\n",
       "      <td>1932262037</td>\n",
       "      <td>INDIVIDUAL</td>\n",
       "      <td>RYAN</td>\n",
       "      <td>MILLER</td>\n",
       "      <td>None</td>\n",
       "      <td>1174660120</td>\n",
       "      <td>Pediatrics</td>\n",
       "      <td>Pediatric Endocrinology</td>\n",
       "      <td>4106018331</td>\n",
       "      <td>2411 W BELVEDERE AVE STE 205</td>\n",
       "      <td>BALTIMORE</td>\n",
       "      <td>MD</td>\n",
       "      <td>21215</td>\n",
       "    </tr>\n",
       "    <tr>\n",
       "      <th>2</th>\n",
       "      <td>1932217148</td>\n",
       "      <td>ORGANIZATION</td>\n",
       "      <td>None</td>\n",
       "      <td>None</td>\n",
       "      <td>FLORIDA CANCER SPECIALISTS P L</td>\n",
       "      <td>None</td>\n",
       "      <td>Internal Medicine</td>\n",
       "      <td>Hematology &amp; Oncology</td>\n",
       "      <td>2392756400</td>\n",
       "      <td>3840 BROADWAY</td>\n",
       "      <td>FORT MYERS</td>\n",
       "      <td>FL</td>\n",
       "      <td>33901</td>\n",
       "    </tr>\n",
       "    <tr>\n",
       "      <th>3</th>\n",
       "      <td>1932230273</td>\n",
       "      <td>INDIVIDUAL</td>\n",
       "      <td>HUNG</td>\n",
       "      <td>NGUYEN</td>\n",
       "      <td>None</td>\n",
       "      <td>1174533343</td>\n",
       "      <td>Family Medicine</td>\n",
       "      <td>None</td>\n",
       "      <td>8178015704</td>\n",
       "      <td>925 WRIGHT ST</td>\n",
       "      <td>ARLINGTON</td>\n",
       "      <td>TX</td>\n",
       "      <td>76012</td>\n",
       "    </tr>\n",
       "    <tr>\n",
       "      <th>4</th>\n",
       "      <td>1932280138</td>\n",
       "      <td>INDIVIDUAL</td>\n",
       "      <td>JAYAN</td>\n",
       "      <td>NAIR</td>\n",
       "      <td>None</td>\n",
       "      <td>1356446736</td>\n",
       "      <td>Internal Medicine</td>\n",
       "      <td>Medical Oncology</td>\n",
       "      <td>9419571000</td>\n",
       "      <td>1970 GOLF ST</td>\n",
       "      <td>SARASOTA</td>\n",
       "      <td>FL</td>\n",
       "      <td>34236</td>\n",
       "    </tr>\n",
       "  </tbody>\n",
       "</table>\n",
       "</div>"
      ],
      "text/plain": [
       "          NPI PROVIDER_TYPE FIRST_NAME  LAST_NAME  \\\n",
       "0  1932236387    INDIVIDUAL       LORI  ZIMMERMAN   \n",
       "1  1932262037    INDIVIDUAL       RYAN     MILLER   \n",
       "2  1932217148  ORGANIZATION       None       None   \n",
       "3  1932230273    INDIVIDUAL       HUNG     NGUYEN   \n",
       "4  1932280138    INDIVIDUAL      JAYAN       NAIR   \n",
       "\n",
       "                ORGANIZATION_NAME HCO_PRIMARY_NPI  PRIMARY_SPECIALTY  \\\n",
       "0                            None      1114969169         Pediatrics   \n",
       "1                            None      1174660120         Pediatrics   \n",
       "2  FLORIDA CANCER SPECIALISTS P L            None  Internal Medicine   \n",
       "3                            None      1174533343    Family Medicine   \n",
       "4                            None      1356446736  Internal Medicine   \n",
       "\n",
       "          SECONDARY_SPECIALTY PROVIDER_PHONE_NUMBER  \\\n",
       "0  Pediatric Gastroenterology            6173556058   \n",
       "1     Pediatric Endocrinology            4106018331   \n",
       "2       Hematology & Oncology            2392756400   \n",
       "3                        None            8178015704   \n",
       "4            Medical Oncology            9419571000   \n",
       "\n",
       "               PROVIDER_ADDRESS PROVIDER_CITY PROVIDER_STATE PROVIDER_ZIP  \n",
       "0   300 LONGWOOD AVENUE, HUNN G        BOSTON             MA        02115  \n",
       "1  2411 W BELVEDERE AVE STE 205     BALTIMORE             MD        21215  \n",
       "2                 3840 BROADWAY    FORT MYERS             FL        33901  \n",
       "3                 925 WRIGHT ST     ARLINGTON             TX        76012  \n",
       "4                  1970 GOLF ST      SARASOTA             FL        34236  "
      ]
     },
     "execution_count": 22,
     "metadata": {},
     "output_type": "execute_result"
    }
   ],
   "source": [
    "# import pandas and the get_snowflake_connection function\n",
    "import pandas as pd\n",
    "from komodo.snowflake import get_snowflake_connection\n",
    "\n",
    "# call the get_snowflake_connection and declare a Snowflake cursor\n",
    "sf_connection = get_snowflake_connection()\n",
    "sf_cursor = sf_connection.cursor()\n",
    "\n",
    "# set the role of the cursor to CUSTOMER_ROLE to read and write tables\n",
    "sf_cursor.execute(\"USE ROLE CUSTOMER_ROLE\")\n",
    "\n",
    "# retrieve the first 1,000 rows of the cohort data\n",
    "cohort_data2 = pd.read_sql(f\"select * from {cohort_snowflake_dataset_table2} LIMIT 1000\", sf_connection)\n",
    "\n",
    "# preview the first 5 rows of the current Snowflake table/Pandas DataFrame\n",
    "cohort_data2.head()"
   ]
  },
  {
   "cell_type": "code",
   "execution_count": 23,
   "metadata": {},
   "outputs": [
    {
     "name": "stderr",
     "output_type": "stream",
     "text": [
      "DEBUG:komodo_connector.connection_creators.snowflake.connect:REST API object was created: f82bd78b-1a87-4b6c-a121-dd977d140a9d.snowflakecomputing.com:443\n",
      "\u001b[32m2025-04-18 09:00:02.827\u001b[0m | \u001b[31m\u001b[1mERROR   \u001b[0m | \u001b[36mkomodo.extensions.dataset\u001b[0m:\u001b[36mupload_dataset_to_maplab\u001b[0m:\u001b[36m126\u001b[0m - \u001b[31m\u001b[1merror writing dataset to maplab: (409)\n",
      "Reason: Conflict\n",
      "HTTP response headers: HTTPHeaderDict({'Date': 'Fri, 18 Apr 2025 09:00:02 GMT', 'Content-Type': 'application/json', 'Content-Length': '148', 'Connection': 'keep-alive', 'x-request-id': 'b1b18a18e9104e9c994cd6a14ceb24ff', 'Access-Control-Allow-Origin': '*'})\n",
      "HTTP response body: colliding_datasets=['61d7b813-b196-4b0a-b1c3-29c7d5462adc'] message='One or more of the manifestations are already in use by another dataset.'\n",
      "\u001b[0m\n"
     ]
    },
    {
     "ename": "AttributeError",
     "evalue": "'dict' object has no attribute 'id'",
     "output_type": "error",
     "traceback": [
      "\u001b[31m---------------------------------------------------------------------------\u001b[39m",
      "\u001b[31mAttributeError\u001b[39m                            Traceback (most recent call last)",
      "\u001b[36mCell\u001b[39m\u001b[36m \u001b[39m\u001b[32mIn[23]\u001b[39m\u001b[32m, line 17\u001b[39m\n\u001b[32m     14\u001b[39m cohort_upload_dataset = upload_dataset_to_maplab(cohort_data, cohort_upload_dataset_name)\n\u001b[32m     16\u001b[39m \u001b[38;5;66;03m# save the ID of the dataset\u001b[39;00m\n\u001b[32m---> \u001b[39m\u001b[32m17\u001b[39m dataset_id = \u001b[43mcohort_upload_dataset\u001b[49m\u001b[43m.\u001b[49m\u001b[43mid\u001b[49m\n\u001b[32m     19\u001b[39m \u001b[38;5;66;03m# print the dataset ID\u001b[39;00m\n\u001b[32m     20\u001b[39m dataset_id\n",
      "\u001b[31mAttributeError\u001b[39m: 'dict' object has no attribute 'id'"
     ]
    }
   ],
   "source": [
    "# import the current date and time\n",
    "from datetime import datetime\n",
    "\n",
    "now = datetime.now()\n",
    "\n",
    "from komodo.dataset import upload_dataset_to_maplab\n",
    "\n",
    "# set the name of the dataset to be uploaded to the Komodo platform\n",
    "# add the current date and time to the end of the dataset name to make it more distinct\n",
    "cohort_upload_datetime = now.strftime(\"%Y%m%d_%H%M%S\")\n",
    "cohort_upload_dataset_name = \"COHORT_DATASET\" \n",
    "\n",
    "# call the upload_dataset_to_maplab function\n",
    "cohort_upload_dataset = upload_dataset_to_maplab(cohort_data, cohort_upload_dataset_name)\n",
    "\n",
    "# save the ID of the dataset\n",
    "dataset_id = cohort_upload_dataset.id\n",
    "\n",
    "# print the dataset ID\n",
    "dataset_id\n",
    "\n",
    "# store the dataset ID as an environment variable that can be used in subsequent cookbook files\n",
    "from dotenv import load_dotenv, set_key\n",
    "\n",
    "set_key(\".env\", \"dataset_id\", dataset_id)"
   ]
  },
  {
   "cell_type": "code",
   "execution_count": 24,
   "metadata": {},
   "outputs": [],
   "source": [
    "# use this cell if you want to use the dataset ID that is stored in an environment variable\n",
    "\n",
    "import os\n",
    "from dotenv import load_dotenv\n",
    "load_dotenv()\n",
    "\n",
    "try:\n",
    "    dataset_id = os.environ[\"dataset_id\"]  # retrieve the dataset_id from the \"3-retrieve-cohort-data.ipynb\" cookbook file\n",
    "except KeyError:\n",
    "    print(\"Please set the variable `dataset_id` with value of your dataset id.\")  # throw an error if no dataset ID can be retrieved"
   ]
  },
  {
   "cell_type": "markdown",
   "metadata": {},
   "source": [
    "## Export Your Dataset"
   ]
  },
  {
   "cell_type": "code",
   "execution_count": 25,
   "metadata": {},
   "outputs": [
    {
     "name": "stdout",
     "output_type": "stream",
     "text": [
      "[ShareMetadata(account_id='f82bd78b-1a87-4b6c-a121-dd977d140a9d', connection_string='arn:aws:iam::851851261022:role/PDI-s3-export', created_by='3009a19d-57af-47c1-a141-eec85b519c9f', created_time='2025-03-19 15:35:27.612861+00:00', customer_region='us-west-2', customer_s3_export_path='s3://kh-studio-test-pdi-s3-export/sandbox-maplab-enterprise', database_name=None, listing_name=None, output_file_format=<OutputFileFormatEnum.CSV: 'CSV'>, region='us-west-2', share_id='9bb1938d-3718-4e3c-9345-be89c73337de', share_name='sandboxmaplabenterprise_s3_external', share_type=<DataFormatEnum.S3_EXTERNAL: 'S3_EXTERNAL'>, updated_by='3009a19d-57af-47c1-a141-eec85b519c9f', updated_time='2025-03-19 15:35:27.612861+00:00', user_id='3009a19d-57af-47c1-a141-eec85b519c9f')]\n"
     ]
    }
   ],
   "source": [
    "import pprint\n",
    "\n",
    "# create the Komodo client\n",
    "from komodo.client import Client\n",
    "client = Client()\n",
    "\n",
    "# retrieve list of Share requests\n",
    "share_ids = client.connections.list_shares()\n",
    "pprint.pprint(share_ids.shares)"
   ]
  },
  {
   "cell_type": "code",
   "execution_count": 26,
   "metadata": {},
   "outputs": [],
   "source": [
    "share_id = '9bb1938d-3718-4e3c-9345-be89c73337de' # str | \n",
    "\n",
    "try:\n",
    "    get_share_response = client.connections.get_share(share_id)\n",
    "except Exception as e:\n",
    "    print(\"Exception when calling ConnectionsApi->get_share: %s\\n\" % e)\n"
   ]
  },
  {
   "cell_type": "code",
   "execution_count": 27,
   "metadata": {},
   "outputs": [],
   "source": [
    "# retrieve the required IAM role policies\n",
    "s3_details = client.connections.get_shares_aws_details()\n",
    "\n",
    "s3_iam_policy = s3_details.iam_policy_json\n",
    "print(s3_iam_policy)\n",
    "\n",
    "s3_iam_trust_relationship = s3_details.iam_trust_relationship_json\n",
    "print(s3_iam_trust_relationship)"
   ]
  },
  {
   "cell_type": "code",
   "execution_count": 39,
   "metadata": {},
   "outputs": [
    {
     "ename": "ServiceException",
     "evalue": "(502)\nReason: Bad Gateway\nHTTP response headers: HTTPHeaderDict({'Date': 'Fri, 18 Apr 2025 11:26:39 GMT', 'Content-Type': 'application/json', 'Content-Length': '112', 'Connection': 'keep-alive', 'x-request-id': 'c67eb6deec064a9098f748149edf4153', 'Access-Control-Allow-Origin': '*'})\nHTTP response body: {\"message\":\"Error submitting the scan for dataset: 61d7b813-b196-4b0a-b1c3-29c7d5462adc: Internal Server Error\"}\n",
     "output_type": "error",
     "traceback": [
      "\u001b[31m---------------------------------------------------------------------------\u001b[39m",
      "\u001b[31mServiceException\u001b[39m                          Traceback (most recent call last)",
      "\u001b[36mCell\u001b[39m\u001b[36m \u001b[39m\u001b[32mIn[39]\u001b[39m\u001b[32m, line 4\u001b[39m\n\u001b[32m      1\u001b[39m \u001b[38;5;28;01mfrom\u001b[39;00m\u001b[38;5;250m \u001b[39m\u001b[34;01mkomodo\u001b[39;00m\u001b[34;01m.\u001b[39;00m\u001b[34;01mdata_deliveries\u001b[39;00m\u001b[34;01m.\u001b[39;00m\u001b[34;01mmodels\u001b[39;00m\u001b[34;01m.\u001b[39;00m\u001b[34;01mdataset_shares\u001b[39;00m\u001b[34;01m.\u001b[39;00m\u001b[34;01mcreate_dataset_share_request\u001b[39;00m\u001b[38;5;250m \u001b[39m\u001b[38;5;28;01mimport\u001b[39;00m CreateDatasetShareRequest\n\u001b[32m      3\u001b[39m dataset_export_request = CreateDatasetShareRequest(dataset_ids=[dataset_id])\n\u001b[32m----> \u001b[39m\u001b[32m4\u001b[39m dataset_export_response = \u001b[43mclient\u001b[49m\u001b[43m.\u001b[49m\u001b[43mdata_deliveries\u001b[49m\u001b[43m.\u001b[49m\u001b[43mcreate_dataset_share\u001b[49m\u001b[43m(\u001b[49m\u001b[43mshare_id\u001b[49m\u001b[43m=\u001b[49m\u001b[43mshare_id\u001b[49m\u001b[43m,\u001b[49m\u001b[43m \u001b[49m\u001b[43mcreate_dataset_share_request\u001b[49m\u001b[43m=\u001b[49m\u001b[43mdataset_export_request\u001b[49m\u001b[43m)\u001b[49m\n\u001b[32m      5\u001b[39m dataset_export_id = dataset_export_response.dataset_shares[\u001b[32m0\u001b[39m].dataset_share_id\n\u001b[32m      7\u001b[39m dataset_export_id\n",
      "\u001b[36mFile \u001b[39m\u001b[32m~/workspace/.venv/lib/python3.11/site-packages/pydantic/_internal/_validate_call.py:39\u001b[39m, in \u001b[36mupdate_wrapper_attributes.<locals>.wrapper_function\u001b[39m\u001b[34m(*args, **kwargs)\u001b[39m\n\u001b[32m     37\u001b[39m \u001b[38;5;129m@functools\u001b[39m.wraps(wrapped)\n\u001b[32m     38\u001b[39m \u001b[38;5;28;01mdef\u001b[39;00m\u001b[38;5;250m \u001b[39m\u001b[34mwrapper_function\u001b[39m(*args, **kwargs):\n\u001b[32m---> \u001b[39m\u001b[32m39\u001b[39m     \u001b[38;5;28;01mreturn\u001b[39;00m \u001b[43mwrapper\u001b[49m\u001b[43m(\u001b[49m\u001b[43m*\u001b[49m\u001b[43margs\u001b[49m\u001b[43m,\u001b[49m\u001b[43m \u001b[49m\u001b[43m*\u001b[49m\u001b[43m*\u001b[49m\u001b[43mkwargs\u001b[49m\u001b[43m)\u001b[49m\n",
      "\u001b[36mFile \u001b[39m\u001b[32m~/workspace/.venv/lib/python3.11/site-packages/pydantic/_internal/_validate_call.py:136\u001b[39m, in \u001b[36mValidateCallWrapper.__call__\u001b[39m\u001b[34m(self, *args, **kwargs)\u001b[39m\n\u001b[32m    133\u001b[39m \u001b[38;5;28;01mif\u001b[39;00m \u001b[38;5;129;01mnot\u001b[39;00m \u001b[38;5;28mself\u001b[39m.__pydantic_complete__:\n\u001b[32m    134\u001b[39m     \u001b[38;5;28mself\u001b[39m._create_validators()\n\u001b[32m--> \u001b[39m\u001b[32m136\u001b[39m res = \u001b[38;5;28mself\u001b[39m.__pydantic_validator__.validate_python(pydantic_core.ArgsKwargs(args, kwargs))\n\u001b[32m    137\u001b[39m \u001b[38;5;28;01mif\u001b[39;00m \u001b[38;5;28mself\u001b[39m.__return_pydantic_validator__:\n\u001b[32m    138\u001b[39m     \u001b[38;5;28;01mreturn\u001b[39;00m \u001b[38;5;28mself\u001b[39m.__return_pydantic_validator__(res)\n",
      "\u001b[36mFile \u001b[39m\u001b[32m~/workspace/.venv/lib/python3.11/site-packages/komodo/api/data_deliveries_api.py:112\u001b[39m, in \u001b[36mDataDeliveriesApi.create_dataset_share\u001b[39m\u001b[34m(self, share_id, create_dataset_share_request, _request_timeout, _request_auth, _content_type, _headers, _host_index)\u001b[39m\n\u001b[32m    110\u001b[39m response_data = \u001b[38;5;28mself\u001b[39m.api_client.call_api(*_param, _request_timeout=_request_timeout)\n\u001b[32m    111\u001b[39m response_data.read()\n\u001b[32m--> \u001b[39m\u001b[32m112\u001b[39m \u001b[38;5;28;01mreturn\u001b[39;00m \u001b[38;5;28;43mself\u001b[39;49m\u001b[43m.\u001b[49m\u001b[43mapi_client\u001b[49m\u001b[43m.\u001b[49m\u001b[43mresponse_deserialize\u001b[49m\u001b[43m(\u001b[49m\n\u001b[32m    113\u001b[39m \u001b[43m    \u001b[49m\u001b[43mresponse_data\u001b[49m\u001b[43m=\u001b[49m\u001b[43mresponse_data\u001b[49m\u001b[43m,\u001b[49m\n\u001b[32m    114\u001b[39m \u001b[43m    \u001b[49m\u001b[43msubpackage\u001b[49m\u001b[43m=\u001b[49m\u001b[33;43m\"\u001b[39;49m\u001b[33;43mkomodo.data_deliveries.models\u001b[39;49m\u001b[33;43m\"\u001b[39;49m\u001b[43m,\u001b[49m\n\u001b[32m    115\u001b[39m \u001b[43m    \u001b[49m\u001b[43mresponse_types_map\u001b[49m\u001b[43m=\u001b[49m\u001b[43m_response_types_map\u001b[49m\u001b[43m,\u001b[49m\n\u001b[32m    116\u001b[39m \u001b[43m\u001b[49m\u001b[43m)\u001b[49m.data\n",
      "\u001b[36mFile \u001b[39m\u001b[32m~/workspace/.venv/lib/python3.11/site-packages/komodo/api_client.py:302\u001b[39m, in \u001b[36mApiClient.response_deserialize\u001b[39m\u001b[34m(self, response_data, subpackage, response_types_map)\u001b[39m\n\u001b[32m    300\u001b[39m \u001b[38;5;28;01mfinally\u001b[39;00m:\n\u001b[32m    301\u001b[39m     \u001b[38;5;28;01mif\u001b[39;00m \u001b[38;5;129;01mnot\u001b[39;00m \u001b[32m200\u001b[39m <= response_data.status <= \u001b[32m299\u001b[39m:\n\u001b[32m--> \u001b[39m\u001b[32m302\u001b[39m         \u001b[38;5;28;01mraise\u001b[39;00m \u001b[43mApiException\u001b[49m\u001b[43m.\u001b[49m\u001b[43mfrom_response\u001b[49m\u001b[43m(\u001b[49m\n\u001b[32m    303\u001b[39m \u001b[43m            \u001b[49m\u001b[43mhttp_resp\u001b[49m\u001b[43m=\u001b[49m\u001b[43mresponse_data\u001b[49m\u001b[43m,\u001b[49m\n\u001b[32m    304\u001b[39m \u001b[43m            \u001b[49m\u001b[43mbody\u001b[49m\u001b[43m=\u001b[49m\u001b[43mresponse_text\u001b[49m\u001b[43m,\u001b[49m\n\u001b[32m    305\u001b[39m \u001b[43m            \u001b[49m\u001b[43mdata\u001b[49m\u001b[43m=\u001b[49m\u001b[43mreturn_data\u001b[49m\u001b[43m,\u001b[49m\n\u001b[32m    306\u001b[39m \u001b[43m        \u001b[49m\u001b[43m)\u001b[49m\n\u001b[32m    308\u001b[39m \u001b[38;5;28;01mreturn\u001b[39;00m ApiResponse(status_code=response_data.status, data=return_data, headers=response_data.getheaders(), raw_data=response_data.data)\n",
      "\u001b[36mFile \u001b[39m\u001b[32m~/workspace/.venv/lib/python3.11/site-packages/komodo/exceptions.py:153\u001b[39m, in \u001b[36mApiException.from_response\u001b[39m\u001b[34m(cls, http_resp, body, data)\u001b[39m\n\u001b[32m    150\u001b[39m     \u001b[38;5;28;01mraise\u001b[39;00m NotFoundException(http_resp=http_resp, body=body, data=data)\n\u001b[32m    152\u001b[39m \u001b[38;5;28;01mif\u001b[39;00m \u001b[32m500\u001b[39m <= http_resp.status <= \u001b[32m599\u001b[39m:\n\u001b[32m--> \u001b[39m\u001b[32m153\u001b[39m     \u001b[38;5;28;01mraise\u001b[39;00m ServiceException(http_resp=http_resp, body=body, data=data)\n\u001b[32m    154\u001b[39m \u001b[38;5;28;01mraise\u001b[39;00m ApiException(http_resp=http_resp, body=body, data=data)\n",
      "\u001b[31mServiceException\u001b[39m: (502)\nReason: Bad Gateway\nHTTP response headers: HTTPHeaderDict({'Date': 'Fri, 18 Apr 2025 11:26:39 GMT', 'Content-Type': 'application/json', 'Content-Length': '112', 'Connection': 'keep-alive', 'x-request-id': 'c67eb6deec064a9098f748149edf4153', 'Access-Control-Allow-Origin': '*'})\nHTTP response body: {\"message\":\"Error submitting the scan for dataset: 61d7b813-b196-4b0a-b1c3-29c7d5462adc: Internal Server Error\"}\n"
     ]
    }
   ],
   "source": [
    "from komodo.data_deliveries.models.dataset_shares.create_dataset_share_request import CreateDatasetShareRequest\n",
    "\n",
    "dataset_export_request = CreateDatasetShareRequest(dataset_ids=[dataset_id])\n",
    "dataset_export_response = client.data_deliveries.create_dataset_share(share_id=share_id, create_dataset_share_request=dataset_export_request)\n",
    "dataset_export_id = dataset_export_response.dataset_shares[0].dataset_share_id\n",
    "\n",
    "dataset_export_id"
   ]
  },
  {
   "cell_type": "code",
   "execution_count": null,
   "metadata": {},
   "outputs": [],
   "source": []
  }
 ],
 "metadata": {
  "kernelspec": {
   "display_name": ".venv",
   "language": "python",
   "name": "python3"
  },
  "language_info": {
   "codemirror_mode": {
    "name": "ipython",
    "version": 3
   },
   "file_extension": ".py",
   "mimetype": "text/x-python",
   "name": "python",
   "nbconvert_exporter": "python",
   "pygments_lexer": "ipython3",
   "version": "3.11.9"
  }
 },
 "nbformat": 4,
 "nbformat_minor": 2
}
