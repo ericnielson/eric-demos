{
 "cells": [
  {
   "cell_type": "markdown",
   "metadata": {},
   "source": [
    "# Create a Cohort then Export the Data to S3"
   ]
  },
  {
   "cell_type": "markdown",
   "metadata": {},
   "source": [
    "## Import Libraries and Set Cohort ID"
   ]
  },
  {
   "cell_type": "code",
   "execution_count": 1,
   "metadata": {},
   "outputs": [],
   "source": [
    "import komodo\n",
    "from komodo.client import Client\n",
    "\n",
    "# Initialize Komodo Client\n",
    "client = Client()\n",
    "cohort_definition_id = \"fltr_def_NRKYCATAYYCAFIKS\"  # replace this cohort definition ID"
   ]
  },
  {
   "cell_type": "markdown",
   "metadata": {},
   "source": [
    "## Run Your Cohort"
   ]
  },
  {
   "cell_type": "code",
   "execution_count": 2,
   "metadata": {},
   "outputs": [],
   "source": [
    "# import the CohortCreate model from the Definitions API/business domain\n",
    "from komodo.definitions.models.cohorts.cohort_create import CohortCreate\n",
    "\n",
    "# create the JSON payload\n",
    "cohort_payload = {\n",
    "    \"name\": \"Cohort\",\n",
    "    \"definition\": {\n",
    "        \"cohort_definition\": {\n",
    "            \"filters\": [{\n",
    "                \"name\": \"filter_dfn\", \n",
    "                \"filter_definition\": {\"filter_definition_id\": cohort_definition_id},\n",
    "                \"time_filter\": {  # optional\n",
    "                    \"ranges\": [\n",
    "                        [\"2024-01-01\", \"2024-01-31\"]\n",
    "                    ]\n",
    "                }\n",
    "            }],\n",
    "            \"entities\": [\"patient\"],\n",
    "            \"source_filter\": {\n",
    "                \"version\": \"release\", \n",
    "                \"include_rejected_claims\": False\n",
    "            },\n",
    "        },\n",
    "        \"output_format\": {\n",
    "            \"count_entities\": False,\n",
    "            \"entities_to_count\": [],\n",
    "            \"outputs\": [{\n",
    "                \"output_format\": \"snowflake-table\",\n",
    "                \"output_type\": \"plaid-providers\",  # based on your subscription\n",
    "            }],\n",
    "        },\n",
    "    },\n",
    "    \"definition_schema_version\": \"1.0.0\",\n",
    "}\n",
    "\n",
    "# create the CohortCreate instance with the JSON payload\n",
    "cohort_create = CohortCreate.from_dict(cohort_payload)"
   ]
  },
  {
   "cell_type": "code",
   "execution_count": 3,
   "metadata": {},
   "outputs": [
    {
     "name": "stdout",
     "output_type": "stream",
     "text": [
      "Cohort status is QUEUED\n",
      "Cohort status is RUNNING\n",
      "Cohort status is RUNNING\n",
      "Cohort status is RUNNING\n",
      "Cohort status is RUNNING\n",
      "Cohort status is RUNNING\n",
      "Cohort status is RUNNING\n",
      "Cohort status is FINISHED\n"
     ]
    }
   ],
   "source": [
    "# create the Komodo client\n",
    "from komodo.client import Client\n",
    "client = Client()\n",
    "\n",
    "# call the create_cohort operation\n",
    "cohort_create_response = client.definitions.create_cohort(cohort_create)\n",
    "\n",
    "# save the ID of the cohort\n",
    "cohort_id = cohort_create_response.id\n",
    "\n",
    "# print the cohort ID\n",
    "cohort_id\n",
    "\n",
    "# store the cohort ID as an environment variable that can be used across cookbook files\n",
    "from dotenv import load_dotenv, set_key\n",
    "set_key('.env', 'cohort_id', cohort_id)\n",
    "\n",
    "from time import sleep\n",
    " \n",
    "cohort_response = client.definitions.get_cohort(cohort_id)\n",
    " \n",
    "while cohort_response.cohort_run.finished_at is None and cohort_response.cohort_run.error_message is None:\n",
    "    cohort_response = client.definitions.get_cohort(cohort_id)\n",
    "    print(f\"Cohort status is {cohort_response.cohort_run.status.value}\")\n",
    "    if cohort_response.cohort_run.status == \"FINISHED\":\n",
    "        break\n",
    "    sleep(5)"
   ]
  },
  {
   "cell_type": "code",
   "execution_count": 4,
   "metadata": {},
   "outputs": [],
   "source": [
    "try:\n",
    "    get_cohort_response = client.definitions.get_cohort(cohort_id)\n",
    "except Exception as e:\n",
    "    print(\"Exception when calling DefinitionsApi->get_cohort: %s\\n\" % e)\n"
   ]
  },
  {
   "cell_type": "code",
   "execution_count": 5,
   "metadata": {},
   "outputs": [
    {
     "name": "stdout",
     "output_type": "stream",
     "text": [
      "Dataset table: COHORTS.PROD.COHORT_RUN_CHT_LVAEFROCIOSLOIBL_0_PLAID_PROVIDERS\n"
     ]
    }
   ],
   "source": [
    "# create the Komodo client\n",
    "from komodo.client import Client\n",
    "\n",
    "client = Client()\n",
    "\n",
    "# call the get_cohort operation\n",
    "cohort_response = client.definitions.get_cohort(cohort_id=cohort_id)\n",
    "\n",
    "# retrieve the dataset ID of the cohort output\n",
    "cohort_snowflake_dataset_id = cohort_response.cohort_run.output.outputs[0].dataset_id\n",
    "\n",
    "# call the get_dataset operation\n",
    "cohort_snowflake_dataset2 = client.data_catalog.get_dataset(dataset_id=cohort_snowflake_dataset_id)\n",
    "\n",
    "# retrieve the fully qualified name of the dataset table\n",
    "cohort_snowflake_dataset_table2 = cohort_snowflake_dataset2.manifestations[0].fully_qualified_name\n",
    "\n",
    "# print the fully qualified name of the dataset table\n",
    "print(f\"Dataset table: {cohort_snowflake_dataset_table2}\")"
   ]
  },
  {
   "cell_type": "markdown",
   "metadata": {},
   "source": [
    "## Convert Snowflake to Pandas "
   ]
  },
  {
   "cell_type": "code",
   "execution_count": 6,
   "metadata": {},
   "outputs": [
    {
     "name": "stderr",
     "output_type": "stream",
     "text": [
      "/home/dragon/workspaces/current/workspace/.venv/lib/python3.11/site-packages/snowflake/connector/options.py:108: UserWarning: You have an incompatible version of 'pyarrow' installed (19.0.1), please install a version that adheres to: 'pyarrow<19.0.0; extra == \"pandas\"'\n",
      "  warn_incompatible_dep(\n",
      "DEBUG:komodo_connector.connection_creators.snowflake.connect:REST API object was created: f82bd78b-1a87-4b6c-a121-dd977d140a9d.snowflakecomputing.com:443\n",
      "/tmp/ipykernel_87127/3802850886.py:13: UserWarning: pandas only supports SQLAlchemy connectable (engine/connection) or database string URI or sqlite3 DBAPI2 connection. Other DBAPI2 objects are not tested. Please consider using SQLAlchemy.\n",
      "  cohort_data2 = pd.read_sql(f\"select * from {cohort_snowflake_dataset_table2} LIMIT 1000\", sf_connection)\n"
     ]
    },
    {
     "data": {
      "text/html": [
       "<div>\n",
       "<style scoped>\n",
       "    .dataframe tbody tr th:only-of-type {\n",
       "        vertical-align: middle;\n",
       "    }\n",
       "\n",
       "    .dataframe tbody tr th {\n",
       "        vertical-align: top;\n",
       "    }\n",
       "\n",
       "    .dataframe thead th {\n",
       "        text-align: right;\n",
       "    }\n",
       "</style>\n",
       "<table border=\"1\" class=\"dataframe\">\n",
       "  <thead>\n",
       "    <tr style=\"text-align: right;\">\n",
       "      <th></th>\n",
       "      <th>NPI</th>\n",
       "      <th>PROVIDER_TYPE</th>\n",
       "      <th>FIRST_NAME</th>\n",
       "      <th>LAST_NAME</th>\n",
       "      <th>ORGANIZATION_NAME</th>\n",
       "      <th>HCO_PRIMARY_NPI</th>\n",
       "      <th>PRIMARY_SPECIALTY</th>\n",
       "      <th>SECONDARY_SPECIALTY</th>\n",
       "      <th>PROVIDER_PHONE_NUMBER</th>\n",
       "      <th>PROVIDER_ADDRESS</th>\n",
       "      <th>PROVIDER_CITY</th>\n",
       "      <th>PROVIDER_STATE</th>\n",
       "      <th>PROVIDER_ZIP</th>\n",
       "    </tr>\n",
       "  </thead>\n",
       "  <tbody>\n",
       "    <tr>\n",
       "      <th>0</th>\n",
       "      <td>1437713633</td>\n",
       "      <td>INDIVIDUAL</td>\n",
       "      <td>RENAE</td>\n",
       "      <td>BRIDGES</td>\n",
       "      <td>None</td>\n",
       "      <td>1184709057</td>\n",
       "      <td>Nurse Practitioner</td>\n",
       "      <td>Adult Health</td>\n",
       "      <td>3218419025</td>\n",
       "      <td>1335 SLIGH BLVD, STE 3</td>\n",
       "      <td>ORLANDO</td>\n",
       "      <td>FL</td>\n",
       "      <td>32806</td>\n",
       "    </tr>\n",
       "    <tr>\n",
       "      <th>1</th>\n",
       "      <td>1437897899</td>\n",
       "      <td>ORGANIZATION</td>\n",
       "      <td>None</td>\n",
       "      <td>None</td>\n",
       "      <td>ACTIVE INFUSIONS INC</td>\n",
       "      <td>None</td>\n",
       "      <td>Clinic/Center</td>\n",
       "      <td>Infusion Therapy</td>\n",
       "      <td>2402004464</td>\n",
       "      <td>14502 GREENVIEW DR STE 360</td>\n",
       "      <td>LAUREL</td>\n",
       "      <td>MD</td>\n",
       "      <td>20708</td>\n",
       "    </tr>\n",
       "    <tr>\n",
       "      <th>2</th>\n",
       "      <td>1598417412</td>\n",
       "      <td>ORGANIZATION</td>\n",
       "      <td>None</td>\n",
       "      <td>None</td>\n",
       "      <td>GRMC INC</td>\n",
       "      <td>None</td>\n",
       "      <td>General Acute Care Hospital</td>\n",
       "      <td>None</td>\n",
       "      <td>3015534000</td>\n",
       "      <td>251 N 4TH ST</td>\n",
       "      <td>OAKLAND</td>\n",
       "      <td>MD</td>\n",
       "      <td>21550</td>\n",
       "    </tr>\n",
       "    <tr>\n",
       "      <th>3</th>\n",
       "      <td>1407886401</td>\n",
       "      <td>INDIVIDUAL</td>\n",
       "      <td>NOORUZSABHA</td>\n",
       "      <td>AHMED</td>\n",
       "      <td>None</td>\n",
       "      <td>1235125717</td>\n",
       "      <td>Internal Medicine</td>\n",
       "      <td>Infectious Disease</td>\n",
       "      <td>0022064328</td>\n",
       "      <td>2130 POINT BLVD STE 900</td>\n",
       "      <td>ELGIN</td>\n",
       "      <td>IL</td>\n",
       "      <td>60123</td>\n",
       "    </tr>\n",
       "    <tr>\n",
       "      <th>4</th>\n",
       "      <td>1407887003</td>\n",
       "      <td>ORGANIZATION</td>\n",
       "      <td>None</td>\n",
       "      <td>None</td>\n",
       "      <td>SELF REGIONAL HEALTHCARE</td>\n",
       "      <td>None</td>\n",
       "      <td>General Acute Care Hospital</td>\n",
       "      <td>None</td>\n",
       "      <td>8647254111</td>\n",
       "      <td>1325 SPRING ST</td>\n",
       "      <td>GREENWOOD</td>\n",
       "      <td>SC</td>\n",
       "      <td>29646</td>\n",
       "    </tr>\n",
       "  </tbody>\n",
       "</table>\n",
       "</div>"
      ],
      "text/plain": [
       "          NPI PROVIDER_TYPE   FIRST_NAME LAST_NAME         ORGANIZATION_NAME  \\\n",
       "0  1437713633    INDIVIDUAL        RENAE   BRIDGES                      None   \n",
       "1  1437897899  ORGANIZATION         None      None      ACTIVE INFUSIONS INC   \n",
       "2  1598417412  ORGANIZATION         None      None                  GRMC INC   \n",
       "3  1407886401    INDIVIDUAL  NOORUZSABHA     AHMED                      None   \n",
       "4  1407887003  ORGANIZATION         None      None  SELF REGIONAL HEALTHCARE   \n",
       "\n",
       "  HCO_PRIMARY_NPI            PRIMARY_SPECIALTY SECONDARY_SPECIALTY  \\\n",
       "0      1184709057           Nurse Practitioner        Adult Health   \n",
       "1            None                Clinic/Center    Infusion Therapy   \n",
       "2            None  General Acute Care Hospital                None   \n",
       "3      1235125717            Internal Medicine  Infectious Disease   \n",
       "4            None  General Acute Care Hospital                None   \n",
       "\n",
       "  PROVIDER_PHONE_NUMBER            PROVIDER_ADDRESS PROVIDER_CITY  \\\n",
       "0            3218419025      1335 SLIGH BLVD, STE 3       ORLANDO   \n",
       "1            2402004464  14502 GREENVIEW DR STE 360        LAUREL   \n",
       "2            3015534000                251 N 4TH ST       OAKLAND   \n",
       "3            0022064328     2130 POINT BLVD STE 900         ELGIN   \n",
       "4            8647254111              1325 SPRING ST     GREENWOOD   \n",
       "\n",
       "  PROVIDER_STATE PROVIDER_ZIP  \n",
       "0             FL        32806  \n",
       "1             MD        20708  \n",
       "2             MD        21550  \n",
       "3             IL        60123  \n",
       "4             SC        29646  "
      ]
     },
     "execution_count": 6,
     "metadata": {},
     "output_type": "execute_result"
    }
   ],
   "source": [
    "# import pandas and the get_snowflake_connection function\n",
    "import pandas as pd\n",
    "from komodo.snowflake import get_snowflake_connection\n",
    "\n",
    "# call the get_snowflake_connection and declare a Snowflake cursor\n",
    "sf_connection = get_snowflake_connection()\n",
    "sf_cursor = sf_connection.cursor()\n",
    "\n",
    "# set the role of the cursor to CUSTOMER_ROLE to read and write tables\n",
    "sf_cursor.execute(\"USE ROLE CUSTOMER_ROLE\")\n",
    "\n",
    "# retrieve the first 1,000 rows of the cohort data\n",
    "cohort_data2 = pd.read_sql(f\"select * from {cohort_snowflake_dataset_table2} LIMIT 1000\", sf_connection)\n",
    "\n",
    "# preview the first 5 rows of the current Snowflake table/Pandas DataFrame\n",
    "cohort_data2.head()"
   ]
  },
  {
   "cell_type": "code",
   "execution_count": 7,
   "metadata": {},
   "outputs": [
    {
     "name": "stderr",
     "output_type": "stream",
     "text": [
      "DEBUG:komodo_connector.connection_creators.snowflake.connect:REST API object was created: f82bd78b-1a87-4b6c-a121-dd977d140a9d.snowflakecomputing.com:443\n"
     ]
    },
    {
     "data": {
      "text/plain": [
       "(True, 'dataset_id', '64690376-1b89-4911-a0a6-5bd1a56dfb73')"
      ]
     },
     "execution_count": 7,
     "metadata": {},
     "output_type": "execute_result"
    }
   ],
   "source": [
    "# import the current date and time\n",
    "from datetime import datetime\n",
    "\n",
    "now = datetime.now()\n",
    "\n",
    "from komodo.dataset import upload_dataset_to_maplab\n",
    "\n",
    "# set the name of the dataset to be uploaded to the Komodo platform\n",
    "# add the current date and time to the end of the dataset name to make it more distinct\n",
    "cohort_upload_datetime = now.strftime(\"%Y%m%d_%H%M%S\")\n",
    "cohort_upload_dataset_name = \"COHORT_DATASET\" + cohort_upload_datetime\n",
    "\n",
    "# call the upload_dataset_to_maplab function\n",
    "cohort_upload_dataset = upload_dataset_to_maplab(cohort_data2, cohort_upload_dataset_name)\n",
    "\n",
    "# save the ID of the dataset\n",
    "dataset_id = cohort_upload_dataset.id\n",
    "\n",
    "# print the dataset ID\n",
    "dataset_id\n",
    "\n",
    "# store the dataset ID as an environment variable that can be used in subsequent cookbook files\n",
    "from dotenv import load_dotenv, set_key\n",
    "\n",
    "set_key(\".env\", \"dataset_id\", dataset_id)"
   ]
  },
  {
   "cell_type": "code",
   "execution_count": 8,
   "metadata": {},
   "outputs": [],
   "source": [
    "# use this cell if you want to use the dataset ID that is stored in an environment variable\n",
    "\n",
    "import os\n",
    "from dotenv import load_dotenv\n",
    "load_dotenv()\n",
    "\n",
    "try:\n",
    "    dataset_id = os.environ[\"dataset_id\"]  # retrieve the dataset_id from the \"3-retrieve-cohort-data.ipynb\" cookbook file\n",
    "except KeyError:\n",
    "    print(\"Please set the variable `dataset_id` with value of your dataset id.\")  # throw an error if no dataset ID can be retrieved"
   ]
  },
  {
   "cell_type": "markdown",
   "metadata": {},
   "source": [
    "## Export Your Dataset"
   ]
  },
  {
   "cell_type": "code",
   "execution_count": 9,
   "metadata": {},
   "outputs": [
    {
     "name": "stdout",
     "output_type": "stream",
     "text": [
      "[ShareMetadata(account_id='f82bd78b-1a87-4b6c-a121-dd977d140a9d', connection_string='arn:aws:iam::851851261022:role/PDI-s3-export', created_by='3009a19d-57af-47c1-a141-eec85b519c9f', created_time='2025-03-19 15:35:27.612861+00:00', customer_region='us-west-2', customer_s3_export_path='s3://kh-studio-test-pdi-s3-export/sandbox-maplab-enterprise', database_name=None, listing_name=None, output_file_format=<OutputFileFormatEnum.CSV: 'CSV'>, region='us-west-2', share_id='9bb1938d-3718-4e3c-9345-be89c73337de', share_name='sandboxmaplabenterprise_s3_external', share_type=<DataFormatEnum.S3_EXTERNAL: 'S3_EXTERNAL'>, updated_by='3009a19d-57af-47c1-a141-eec85b519c9f', updated_time='2025-03-19 15:35:27.612861+00:00', user_id='3009a19d-57af-47c1-a141-eec85b519c9f')]\n"
     ]
    }
   ],
   "source": [
    "import pprint\n",
    "\n",
    "# create the Komodo client\n",
    "from komodo.client import Client\n",
    "client = Client()\n",
    "\n",
    "# retrieve list of Share requests\n",
    "share_ids = client.connections.list_shares()\n",
    "pprint.pprint(share_ids.shares)"
   ]
  },
  {
   "cell_type": "code",
   "execution_count": 10,
   "metadata": {},
   "outputs": [],
   "source": [
    "share_id = '9bb1938d-3718-4e3c-9345-be89c73337de' # str | \n",
    "\n",
    "try:\n",
    "    get_share_response = client.connections.get_share(share_id)\n",
    "except Exception as e:\n",
    "    print(\"Exception when calling ConnectionsApi->get_share: %s\\n\" % e)\n"
   ]
  },
  {
   "cell_type": "code",
   "execution_count": 11,
   "metadata": {},
   "outputs": [
    {
     "name": "stdout",
     "output_type": "stream",
     "text": [
      "{\"Version\": \"2012-10-17\", \"Statement\": [{\"Effect\": \"Allow\", \"Action\": [\"s3:GetObject\", \"s3:GetObjectTagging\", \"s3:GetObjectVersion\", \"s3:GetObjectVersionTagging\", \"s3:ListBucket\"], \"Resource\": [\"arn:aws:s3:::pdi-export-bb376550-8b58-4a65-b03c-bb0e8e564a02-prod-uw2\", \"arn:aws:s3:::pdi-export-bb376550-8b58-4a65-b03c-bb0e8e564a02-prod-uw2/sds_dataset_shares/*\"]}, {\"Effect\": \"Allow\", \"Action\": [\"s3:DeleteObject\", \"s3:GetObject\", \"s3:GetObjectAcl\", \"s3:ListBucket\", \"s3:PutObject\", \"s3:PutObjectAcl\"], \"Resource\": [\"arn:aws:s3:::{customer_s3_bucket}/{customer_s3_path}/*\", \"arn:aws:s3:::{customer_s3_bucket}\"]}, {\"Effect\": \"Allow\", \"Action\": [\"kms:Decrypt\", \"kms:GenerateDataKey\"], \"Resource\": [\"arn:aws:kms:us-west-2:904233131998:key/mrk-54689dae89204a768488fe09f9968257\", \"arn:aws:kms:{customer_region}:{customer_aws_account_id}:key/{customer_bucket_key_id}\"]}]}\n",
      "{\"Version\": \"2012-10-17\", \"Statement\": [{\"Effect\": \"Allow\", \"Principal\": {\"AWS\": [\"arn:aws:iam::904233131998:role/customer_account_role\"]}, \"Action\": \"sts:AssumeRole\", \"Condition\": {}}]}\n"
     ]
    }
   ],
   "source": [
    "# retrieve the required IAM role policies\n",
    "s3_details = client.connections.get_shares_aws_details()\n",
    "\n",
    "s3_iam_policy = s3_details.iam_policy_json\n",
    "print(s3_iam_policy)\n",
    "\n",
    "s3_iam_trust_relationship = s3_details.iam_trust_relationship_json\n",
    "print(s3_iam_trust_relationship)"
   ]
  },
  {
   "cell_type": "code",
   "execution_count": 12,
   "metadata": {},
   "outputs": [
    {
     "ename": "ServiceException",
     "evalue": "(502)\nReason: Bad Gateway\nHTTP response headers: HTTPHeaderDict({'Date': 'Fri, 18 Apr 2025 15:22:01 GMT', 'Content-Type': 'application/json', 'Content-Length': '112', 'Connection': 'keep-alive', 'x-request-id': '0787087fdeae46ba9cadf93d5e848ebd', 'Access-Control-Allow-Origin': '*'})\nHTTP response body: {\"message\":\"Error submitting the scan for dataset: 64690376-1b89-4911-a0a6-5bd1a56dfb73: Internal Server Error\"}\n",
     "output_type": "error",
     "traceback": [
      "\u001b[31m---------------------------------------------------------------------------\u001b[39m",
      "\u001b[31mServiceException\u001b[39m                          Traceback (most recent call last)",
      "\u001b[36mCell\u001b[39m\u001b[36m \u001b[39m\u001b[32mIn[12]\u001b[39m\u001b[32m, line 4\u001b[39m\n\u001b[32m      1\u001b[39m \u001b[38;5;28;01mfrom\u001b[39;00m\u001b[38;5;250m \u001b[39m\u001b[34;01mkomodo\u001b[39;00m\u001b[34;01m.\u001b[39;00m\u001b[34;01mdata_deliveries\u001b[39;00m\u001b[34;01m.\u001b[39;00m\u001b[34;01mmodels\u001b[39;00m\u001b[34;01m.\u001b[39;00m\u001b[34;01mdataset_shares\u001b[39;00m\u001b[34;01m.\u001b[39;00m\u001b[34;01mcreate_dataset_share_request\u001b[39;00m\u001b[38;5;250m \u001b[39m\u001b[38;5;28;01mimport\u001b[39;00m CreateDatasetShareRequest\n\u001b[32m      3\u001b[39m dataset_export_request = CreateDatasetShareRequest(dataset_ids=[dataset_id])\n\u001b[32m----> \u001b[39m\u001b[32m4\u001b[39m dataset_export_response = \u001b[43mclient\u001b[49m\u001b[43m.\u001b[49m\u001b[43mdata_deliveries\u001b[49m\u001b[43m.\u001b[49m\u001b[43mcreate_dataset_share\u001b[49m\u001b[43m(\u001b[49m\u001b[43mshare_id\u001b[49m\u001b[43m=\u001b[49m\u001b[43mshare_id\u001b[49m\u001b[43m,\u001b[49m\u001b[43m \u001b[49m\u001b[43mcreate_dataset_share_request\u001b[49m\u001b[43m=\u001b[49m\u001b[43mdataset_export_request\u001b[49m\u001b[43m)\u001b[49m\n\u001b[32m      5\u001b[39m dataset_export_id = dataset_export_response.dataset_shares[\u001b[32m0\u001b[39m].dataset_share_id\n\u001b[32m      7\u001b[39m dataset_export_id\n",
      "\u001b[36mFile \u001b[39m\u001b[32m~/workspace/.venv/lib/python3.11/site-packages/pydantic/_internal/_validate_call.py:39\u001b[39m, in \u001b[36mupdate_wrapper_attributes.<locals>.wrapper_function\u001b[39m\u001b[34m(*args, **kwargs)\u001b[39m\n\u001b[32m     37\u001b[39m \u001b[38;5;129m@functools\u001b[39m.wraps(wrapped)\n\u001b[32m     38\u001b[39m \u001b[38;5;28;01mdef\u001b[39;00m\u001b[38;5;250m \u001b[39m\u001b[34mwrapper_function\u001b[39m(*args, **kwargs):\n\u001b[32m---> \u001b[39m\u001b[32m39\u001b[39m     \u001b[38;5;28;01mreturn\u001b[39;00m \u001b[43mwrapper\u001b[49m\u001b[43m(\u001b[49m\u001b[43m*\u001b[49m\u001b[43margs\u001b[49m\u001b[43m,\u001b[49m\u001b[43m \u001b[49m\u001b[43m*\u001b[49m\u001b[43m*\u001b[49m\u001b[43mkwargs\u001b[49m\u001b[43m)\u001b[49m\n",
      "\u001b[36mFile \u001b[39m\u001b[32m~/workspace/.venv/lib/python3.11/site-packages/pydantic/_internal/_validate_call.py:136\u001b[39m, in \u001b[36mValidateCallWrapper.__call__\u001b[39m\u001b[34m(self, *args, **kwargs)\u001b[39m\n\u001b[32m    133\u001b[39m \u001b[38;5;28;01mif\u001b[39;00m \u001b[38;5;129;01mnot\u001b[39;00m \u001b[38;5;28mself\u001b[39m.__pydantic_complete__:\n\u001b[32m    134\u001b[39m     \u001b[38;5;28mself\u001b[39m._create_validators()\n\u001b[32m--> \u001b[39m\u001b[32m136\u001b[39m res = \u001b[38;5;28mself\u001b[39m.__pydantic_validator__.validate_python(pydantic_core.ArgsKwargs(args, kwargs))\n\u001b[32m    137\u001b[39m \u001b[38;5;28;01mif\u001b[39;00m \u001b[38;5;28mself\u001b[39m.__return_pydantic_validator__:\n\u001b[32m    138\u001b[39m     \u001b[38;5;28;01mreturn\u001b[39;00m \u001b[38;5;28mself\u001b[39m.__return_pydantic_validator__(res)\n",
      "\u001b[36mFile \u001b[39m\u001b[32m~/workspace/.venv/lib/python3.11/site-packages/komodo/api/data_deliveries_api.py:112\u001b[39m, in \u001b[36mDataDeliveriesApi.create_dataset_share\u001b[39m\u001b[34m(self, share_id, create_dataset_share_request, _request_timeout, _request_auth, _content_type, _headers, _host_index)\u001b[39m\n\u001b[32m    110\u001b[39m response_data = \u001b[38;5;28mself\u001b[39m.api_client.call_api(*_param, _request_timeout=_request_timeout)\n\u001b[32m    111\u001b[39m response_data.read()\n\u001b[32m--> \u001b[39m\u001b[32m112\u001b[39m \u001b[38;5;28;01mreturn\u001b[39;00m \u001b[38;5;28;43mself\u001b[39;49m\u001b[43m.\u001b[49m\u001b[43mapi_client\u001b[49m\u001b[43m.\u001b[49m\u001b[43mresponse_deserialize\u001b[49m\u001b[43m(\u001b[49m\n\u001b[32m    113\u001b[39m \u001b[43m    \u001b[49m\u001b[43mresponse_data\u001b[49m\u001b[43m=\u001b[49m\u001b[43mresponse_data\u001b[49m\u001b[43m,\u001b[49m\n\u001b[32m    114\u001b[39m \u001b[43m    \u001b[49m\u001b[43msubpackage\u001b[49m\u001b[43m=\u001b[49m\u001b[33;43m\"\u001b[39;49m\u001b[33;43mkomodo.data_deliveries.models\u001b[39;49m\u001b[33;43m\"\u001b[39;49m\u001b[43m,\u001b[49m\n\u001b[32m    115\u001b[39m \u001b[43m    \u001b[49m\u001b[43mresponse_types_map\u001b[49m\u001b[43m=\u001b[49m\u001b[43m_response_types_map\u001b[49m\u001b[43m,\u001b[49m\n\u001b[32m    116\u001b[39m \u001b[43m\u001b[49m\u001b[43m)\u001b[49m.data\n",
      "\u001b[36mFile \u001b[39m\u001b[32m~/workspace/.venv/lib/python3.11/site-packages/komodo/api_client.py:302\u001b[39m, in \u001b[36mApiClient.response_deserialize\u001b[39m\u001b[34m(self, response_data, subpackage, response_types_map)\u001b[39m\n\u001b[32m    300\u001b[39m \u001b[38;5;28;01mfinally\u001b[39;00m:\n\u001b[32m    301\u001b[39m     \u001b[38;5;28;01mif\u001b[39;00m \u001b[38;5;129;01mnot\u001b[39;00m \u001b[32m200\u001b[39m <= response_data.status <= \u001b[32m299\u001b[39m:\n\u001b[32m--> \u001b[39m\u001b[32m302\u001b[39m         \u001b[38;5;28;01mraise\u001b[39;00m \u001b[43mApiException\u001b[49m\u001b[43m.\u001b[49m\u001b[43mfrom_response\u001b[49m\u001b[43m(\u001b[49m\n\u001b[32m    303\u001b[39m \u001b[43m            \u001b[49m\u001b[43mhttp_resp\u001b[49m\u001b[43m=\u001b[49m\u001b[43mresponse_data\u001b[49m\u001b[43m,\u001b[49m\n\u001b[32m    304\u001b[39m \u001b[43m            \u001b[49m\u001b[43mbody\u001b[49m\u001b[43m=\u001b[49m\u001b[43mresponse_text\u001b[49m\u001b[43m,\u001b[49m\n\u001b[32m    305\u001b[39m \u001b[43m            \u001b[49m\u001b[43mdata\u001b[49m\u001b[43m=\u001b[49m\u001b[43mreturn_data\u001b[49m\u001b[43m,\u001b[49m\n\u001b[32m    306\u001b[39m \u001b[43m        \u001b[49m\u001b[43m)\u001b[49m\n\u001b[32m    308\u001b[39m \u001b[38;5;28;01mreturn\u001b[39;00m ApiResponse(status_code=response_data.status, data=return_data, headers=response_data.getheaders(), raw_data=response_data.data)\n",
      "\u001b[36mFile \u001b[39m\u001b[32m~/workspace/.venv/lib/python3.11/site-packages/komodo/exceptions.py:153\u001b[39m, in \u001b[36mApiException.from_response\u001b[39m\u001b[34m(cls, http_resp, body, data)\u001b[39m\n\u001b[32m    150\u001b[39m     \u001b[38;5;28;01mraise\u001b[39;00m NotFoundException(http_resp=http_resp, body=body, data=data)\n\u001b[32m    152\u001b[39m \u001b[38;5;28;01mif\u001b[39;00m \u001b[32m500\u001b[39m <= http_resp.status <= \u001b[32m599\u001b[39m:\n\u001b[32m--> \u001b[39m\u001b[32m153\u001b[39m     \u001b[38;5;28;01mraise\u001b[39;00m ServiceException(http_resp=http_resp, body=body, data=data)\n\u001b[32m    154\u001b[39m \u001b[38;5;28;01mraise\u001b[39;00m ApiException(http_resp=http_resp, body=body, data=data)\n",
      "\u001b[31mServiceException\u001b[39m: (502)\nReason: Bad Gateway\nHTTP response headers: HTTPHeaderDict({'Date': 'Fri, 18 Apr 2025 15:22:01 GMT', 'Content-Type': 'application/json', 'Content-Length': '112', 'Connection': 'keep-alive', 'x-request-id': '0787087fdeae46ba9cadf93d5e848ebd', 'Access-Control-Allow-Origin': '*'})\nHTTP response body: {\"message\":\"Error submitting the scan for dataset: 64690376-1b89-4911-a0a6-5bd1a56dfb73: Internal Server Error\"}\n"
     ]
    }
   ],
   "source": [
    "from komodo.data_deliveries.models.dataset_shares.create_dataset_share_request import CreateDatasetShareRequest\n",
    "\n",
    "dataset_export_request = CreateDatasetShareRequest(dataset_ids=[dataset_id])\n",
    "dataset_export_response = client.data_deliveries.create_dataset_share(share_id=share_id, create_dataset_share_request=dataset_export_request)\n",
    "dataset_export_id = dataset_export_response.dataset_shares[0].dataset_share_id\n",
    "\n",
    "dataset_export_id"
   ]
  },
  {
   "cell_type": "code",
   "execution_count": null,
   "metadata": {},
   "outputs": [],
   "source": []
  }
 ],
 "metadata": {
  "kernelspec": {
   "display_name": ".venv",
   "language": "python",
   "name": "python3"
  },
  "language_info": {
   "codemirror_mode": {
    "name": "ipython",
    "version": 3
   },
   "file_extension": ".py",
   "mimetype": "text/x-python",
   "name": "python",
   "nbconvert_exporter": "python",
   "pygments_lexer": "ipython3",
   "version": "3.11.9"
  }
 },
 "nbformat": 4,
 "nbformat_minor": 2
}
