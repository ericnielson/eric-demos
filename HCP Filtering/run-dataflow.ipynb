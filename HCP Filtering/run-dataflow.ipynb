{
 "cells": [
  {
   "cell_type": "code",
   "execution_count": null,
   "metadata": {},
   "outputs": [],
   "source": [
    "import os\n",
    "from dotenv import load_dotenv\n",
    "\n",
    "load_dotenv()\n",
    "\n",
    "try:\n",
    "    analytic_definition_version_id = os.environ[\"analytic_definition_version_id\"]  # retrieve the cohort_id from the \"2-run-a-cohort.ipynb\" cookbook file\n",
    "except KeyError:\n",
    "    print(\"Please set the variable `analytic_definition_version` with value of your analytic definition id.\")  # throw an error if no cohort ID can be retrieved"
   ]
  },
  {
   "cell_type": "code",
   "execution_count": null,
   "metadata": {},
   "outputs": [],
   "source": [
    "# save the ID of the latest analytic definition version\n",
    "create_analytic_definition_response_latest_id = create_analytic_definition_response.get('latestVersion').get('id')\n",
    "\n",
    "# print the latest analytic definition version ID\n",
    "print(f\"Analytic definition version: {create_analytic_definition_response_latest_id}\")"
   ]
  },
  {
   "cell_type": "code",
   "execution_count": null,
   "metadata": {},
   "outputs": [],
   "source": [
    "# call the create_dataflow_from_analytic_definition_version function\n",
    "create_dataflow_response = create_dataflow_from_analytic_definition_version(\n",
    "    analytic_definition_version_id = create_analytic_definition_response.get(\"latestVersion\").get(\"id\"),\n",
    "    arguments = {\n",
    "        \"medical_events_table\": \"7322e8b3-6af8-4c5d-a92f-f114be9b3210\", #this is a dataset ID if using datasets\n",
    "    },\n",
    "    refresh_schedule = \"0 0 7 * *\"  # The refresh schedule uses a cron job. This one runs monthly at midnight UTC on the 15th\n",
    ")"
   ]
  },
  {
   "cell_type": "code",
   "execution_count": null,
   "metadata": {},
   "outputs": [],
   "source": [
    "### --- This table should be run as is without changes --- ###\n",
    "\n",
    "# save the ID of the dataflow\n",
    "dataflow_id = create_dataflow_response[\"id\"]\n",
    "\n",
    "# print the dataflow ID\n",
    "print(f\"Dataflow: {dataflow_id}\")\n",
    " \n",
    "# call the run_dataflow function\n",
    "run_dataflow(dataflow_id)\n",
    "\n",
    "# call the check_dataflow_run_status function\n",
    "check_dataflow_run_status(dataflow_id)\n"
   ]
  }
 ],
 "metadata": {
  "language_info": {
   "name": "python"
  }
 },
 "nbformat": 4,
 "nbformat_minor": 2
}
