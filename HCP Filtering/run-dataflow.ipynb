{
 "cells": [
  {
   "cell_type": "code",
   "execution_count": 18,
   "metadata": {},
   "outputs": [],
   "source": [
    "### Import Libraries\n",
    "import os\n",
    "from komodo.client import Client\n",
    "from komodo.definitions.models.cohorts.cohort_create import CohortCreate\n",
    "from komodo.snowflake import get_snowflake_connection\n",
    "import pandas as pd\n",
    "from datetime import datetime\n",
    "from komodo.dataset import upload_dataset_to_maplab\n",
    "import pprint\n",
    "from komodo.analytics import AnalyticDefinitionVersion, AnalyticDefinition, AnalyticDialect, InputType, create_analytic_definition, create_dataflow_from_analytic_definition_version, run_dataflow, check_dataflow_run_status"
   ]
  },
  {
   "cell_type": "code",
   "execution_count": 23,
   "metadata": {},
   "outputs": [
    {
     "name": "stdout",
     "output_type": "stream",
     "text": [
      "Analytic definition: 91f424f8-d42a-4029-a482-c9aa8dfc0ea7\n",
      "Analytic definition version: 882815f6-e6c9-4816-b4a5-4945f5a3571c\n"
     ]
    }
   ],
   "source": [
    "# save the ID of the analytic definition\n",
    "create_analytic_definition_response_id = \"91f424f8-d42a-4029-a482-c9aa8dfc0ea7\" ### Pull the AD ID from the config file\n",
    "\n",
    "# print the analytic definition ID\n",
    "print(f\"Analytic definition: {create_analytic_definition_response_id}\")\n",
    "\n",
    "# save the ID of the latest analytic definition version\n",
    "create_analytic_definition_response_latest_id = \"882815f6-e6c9-4816-b4a5-4945f5a3571c\" ### Pull the AD version ID from the config file\n",
    "\n",
    "# print the latest analytic definition version ID\n",
    "print(f\"Analytic definition version: {create_analytic_definition_response_latest_id}\")"
   ]
  },
  {
   "cell_type": "code",
   "execution_count": 25,
   "metadata": {},
   "outputs": [
    {
     "name": "stdout",
     "output_type": "stream",
     "text": [
      "{'data': None, 'errors': [{'message': \"Analytic Definition Version with id '91f424f8-d42a-4029-a482-c9aa8dfc0ea7' not found\", 'locations': [{'line': 2, 'column': 5}], 'path': ['createDataflowFromAnalyticDefinitionVersion']}]}\n"
     ]
    }
   ],
   "source": [
    "# call the create_dataflow_from_analytic_definition_version function\n",
    "create_dataflow_response = create_dataflow_from_analytic_definition_version(\n",
    "    analytic_definition_version_id = \"91f424f8-d42a-4029-a482-c9aa8dfc0ea7\",\n",
    "    arguments = {\n",
    "        \"medical_events_id\": \"4aa719bf-ede6-471a-aef5-73c5c43f8aea\",\n",
    "        \"patient_demographics_id\": \"fc518f94-c2ed-4038-ada9-3f0873577acf\",\n",
    "        \"providers_id\": \"413ee509-d67a-45c1-bd1e-83c00839f62f\",\n",
    "        \"patient_geographic_id\": \"a04b9d6c-abdc-4c0c-bb78-82d17db39672\",\n",
    "        \"plans_id\": \"04fb0851-4b0a-4948-bbc3-c880c24b5ef0\",\n",
    "    },\n",
    ")\n",
    "\n",
    "print(create_dataflow_response)"
   ]
  },
  {
   "cell_type": "code",
   "execution_count": 19,
   "metadata": {},
   "outputs": [
    {
     "ename": "KeyError",
     "evalue": "'id'",
     "output_type": "error",
     "traceback": [
      "\u001b[31m---------------------------------------------------------------------------\u001b[39m",
      "\u001b[31mKeyError\u001b[39m                                  Traceback (most recent call last)",
      "\u001b[36mCell\u001b[39m\u001b[36m \u001b[39m\u001b[32mIn[19]\u001b[39m\u001b[32m, line 4\u001b[39m\n\u001b[32m      1\u001b[39m \u001b[38;5;66;03m### --- This table should be run as is without changes --- ###\u001b[39;00m\n\u001b[32m      2\u001b[39m \n\u001b[32m      3\u001b[39m \u001b[38;5;66;03m# save the ID of the dataflow\u001b[39;00m\n\u001b[32m----> \u001b[39m\u001b[32m4\u001b[39m dataflow_id = \u001b[43mcreate_dataflow_response\u001b[49m\u001b[43m[\u001b[49m\u001b[33;43m\"\u001b[39;49m\u001b[33;43mid\u001b[39;49m\u001b[33;43m\"\u001b[39;49m\u001b[43m]\u001b[49m\n\u001b[32m      6\u001b[39m \u001b[38;5;66;03m# print the dataflow ID\u001b[39;00m\n\u001b[32m      7\u001b[39m \u001b[38;5;28mprint\u001b[39m(\u001b[33mf\u001b[39m\u001b[33m\"\u001b[39m\u001b[33mDataflow: \u001b[39m\u001b[38;5;132;01m{\u001b[39;00mdataflow_id\u001b[38;5;132;01m}\u001b[39;00m\u001b[33m\"\u001b[39m)\n",
      "\u001b[31mKeyError\u001b[39m: 'id'"
     ]
    }
   ],
   "source": [
    "### --- This table should be run as is without changes --- ###\n",
    "\n",
    "# save the ID of the dataflow\n",
    "dataflow_id = create_dataflow_response[\"id\"]\n",
    "\n",
    "# print the dataflow ID\n",
    "print(f\"Dataflow: {dataflow_id}\")\n",
    " \n",
    "# call the run_dataflow function\n",
    "run_dataflow(dataflow_id)\n",
    "\n",
    "# call the check_dataflow_run_status function\n",
    "check_dataflow_run_status(dataflow_id)\n"
   ]
  }
 ],
 "metadata": {
  "kernelspec": {
   "display_name": ".venv",
   "language": "python",
   "name": "python3"
  },
  "language_info": {
   "codemirror_mode": {
    "name": "ipython",
    "version": 3
   },
   "file_extension": ".py",
   "mimetype": "text/x-python",
   "name": "python",
   "nbconvert_exporter": "python",
   "pygments_lexer": "ipython3",
   "version": "3.11.9"
  }
 },
 "nbformat": 4,
 "nbformat_minor": 2
}
